{
  "nbformat": 4,
  "nbformat_minor": 0,
  "metadata": {
    "colab": {
      "provenance": []
    },
    "kernelspec": {
      "name": "python3",
      "display_name": "Python 3"
    },
    "language_info": {
      "name": "python"
    }
  },
  "cells": [
    {
      "cell_type": "code",
      "execution_count": null,
      "metadata": {
        "id": "QHk3T8_hFAoP",
        "colab": {
          "base_uri": "https://localhost:8080/"
        },
        "outputId": "26f96673-263e-4122-9125-505fbd051acb"
      },
      "outputs": [
        {
          "output_type": "stream",
          "name": "stdout",
          "text": [
            "Looking in indexes: https://pypi.org/simple, https://us-python.pkg.dev/colab-wheels/public/simple/\n",
            "Requirement already satisfied: fuzzy-c-means in /usr/local/lib/python3.7/dist-packages (1.6.3)\n",
            "Requirement already satisfied: tabulate<0.9.0,>=0.8.9 in /usr/local/lib/python3.7/dist-packages (from fuzzy-c-means) (0.8.10)\n",
            "Requirement already satisfied: numpy<2.0.0,>=1.21.1 in /usr/local/lib/python3.7/dist-packages (from fuzzy-c-means) (1.21.6)\n",
            "Requirement already satisfied: typer<0.4.0,>=0.3.2 in /usr/local/lib/python3.7/dist-packages (from fuzzy-c-means) (0.3.2)\n",
            "Requirement already satisfied: pydantic<2.0.0,>=1.8.2 in /usr/local/lib/python3.7/dist-packages (from fuzzy-c-means) (1.10.2)\n",
            "Requirement already satisfied: typing-extensions>=4.1.0 in /usr/local/lib/python3.7/dist-packages (from pydantic<2.0.0,>=1.8.2->fuzzy-c-means) (4.1.1)\n",
            "Requirement already satisfied: click<7.2.0,>=7.1.1 in /usr/local/lib/python3.7/dist-packages (from typer<0.4.0,>=0.3.2->fuzzy-c-means) (7.1.2)\n"
          ]
        }
      ],
      "source": [
        " !pip install fuzzy-c-means\n",
        "import pandas as pd\n",
        "from sklearn.model_selection import train_test_split\n",
        "from sklearn.cluster import KMeans\n",
        "from sklearn.metrics import accuracy_score\n",
        "from fcmeans import FCM\n",
        "from sklearn.svm import SVC\n",
        "from sklearn.utils import shuffle\n",
        "import statsmodels.api as sm \n",
        "import numpy as np"
      ]
    },
    {
      "cell_type": "code",
      "source": [
        "#Importing required modules\n",
        "from sklearn.decomposition import PCA\n",
        "from sklearn.cluster import KMeans\n",
        "import numpy as np"
      ],
      "metadata": {
        "id": "SCoDSaNrVMfd"
      },
      "execution_count": null,
      "outputs": []
    },
    {
      "cell_type": "markdown",
      "source": [
        "***Read data*** \n"
      ],
      "metadata": {
        "id": "-DkXpk8Ag2cK"
      }
    },
    {
      "cell_type": "code",
      "source": [
        "data=pd.read_csv(\"/content/heart_failure_clinical_records_dataset.csv\")"
      ],
      "metadata": {
        "id": "FOMCQNN9FILP"
      },
      "execution_count": null,
      "outputs": []
    },
    {
      "cell_type": "markdown",
      "source": [
        "***describe data***"
      ],
      "metadata": {
        "id": "4aQZDyEMhHxo"
      }
    },
    {
      "cell_type": "code",
      "source": [
        "data.describe()"
      ],
      "metadata": {
        "colab": {
          "base_uri": "https://localhost:8080/",
          "height": 301
        },
        "id": "TXFFmyVenJBJ",
        "outputId": "fa78b527-94de-4488-8c6c-dcb493e76006"
      },
      "execution_count": null,
      "outputs": [
        {
          "output_type": "execute_result",
          "data": {
            "text/plain": [
              "              age     anaemia  creatinine_phosphokinase    diabetes  \\\n",
              "count  299.000000  299.000000                299.000000  299.000000   \n",
              "mean    60.833893    0.431438                581.839465    0.418060   \n",
              "std     11.894809    0.496107                970.287881    0.494067   \n",
              "min     40.000000    0.000000                 23.000000    0.000000   \n",
              "25%     51.000000    0.000000                116.500000    0.000000   \n",
              "50%     60.000000    0.000000                250.000000    0.000000   \n",
              "75%     70.000000    1.000000                582.000000    1.000000   \n",
              "max     95.000000    1.000000               7861.000000    1.000000   \n",
              "\n",
              "       ejection_fraction  high_blood_pressure      platelets  \\\n",
              "count         299.000000           299.000000     299.000000   \n",
              "mean           38.083612             0.351171  263358.029264   \n",
              "std            11.834841             0.478136   97804.236869   \n",
              "min            14.000000             0.000000   25100.000000   \n",
              "25%            30.000000             0.000000  212500.000000   \n",
              "50%            38.000000             0.000000  262000.000000   \n",
              "75%            45.000000             1.000000  303500.000000   \n",
              "max            80.000000             1.000000  850000.000000   \n",
              "\n",
              "       serum_creatinine  serum_sodium         sex    smoking        time  \\\n",
              "count         299.00000    299.000000  299.000000  299.00000  299.000000   \n",
              "mean            1.39388    136.625418    0.648829    0.32107  130.260870   \n",
              "std             1.03451      4.412477    0.478136    0.46767   77.614208   \n",
              "min             0.50000    113.000000    0.000000    0.00000    4.000000   \n",
              "25%             0.90000    134.000000    0.000000    0.00000   73.000000   \n",
              "50%             1.10000    137.000000    1.000000    0.00000  115.000000   \n",
              "75%             1.40000    140.000000    1.000000    1.00000  203.000000   \n",
              "max             9.40000    148.000000    1.000000    1.00000  285.000000   \n",
              "\n",
              "       DEATH_EVENT  \n",
              "count    299.00000  \n",
              "mean       0.32107  \n",
              "std        0.46767  \n",
              "min        0.00000  \n",
              "25%        0.00000  \n",
              "50%        0.00000  \n",
              "75%        1.00000  \n",
              "max        1.00000  "
            ],
            "text/html": [
              "\n",
              "  <div id=\"df-4d0badd1-6f74-451c-b3fb-cc7a2d373a53\">\n",
              "    <div class=\"colab-df-container\">\n",
              "      <div>\n",
              "<style scoped>\n",
              "    .dataframe tbody tr th:only-of-type {\n",
              "        vertical-align: middle;\n",
              "    }\n",
              "\n",
              "    .dataframe tbody tr th {\n",
              "        vertical-align: top;\n",
              "    }\n",
              "\n",
              "    .dataframe thead th {\n",
              "        text-align: right;\n",
              "    }\n",
              "</style>\n",
              "<table border=\"1\" class=\"dataframe\">\n",
              "  <thead>\n",
              "    <tr style=\"text-align: right;\">\n",
              "      <th></th>\n",
              "      <th>age</th>\n",
              "      <th>anaemia</th>\n",
              "      <th>creatinine_phosphokinase</th>\n",
              "      <th>diabetes</th>\n",
              "      <th>ejection_fraction</th>\n",
              "      <th>high_blood_pressure</th>\n",
              "      <th>platelets</th>\n",
              "      <th>serum_creatinine</th>\n",
              "      <th>serum_sodium</th>\n",
              "      <th>sex</th>\n",
              "      <th>smoking</th>\n",
              "      <th>time</th>\n",
              "      <th>DEATH_EVENT</th>\n",
              "    </tr>\n",
              "  </thead>\n",
              "  <tbody>\n",
              "    <tr>\n",
              "      <th>count</th>\n",
              "      <td>299.000000</td>\n",
              "      <td>299.000000</td>\n",
              "      <td>299.000000</td>\n",
              "      <td>299.000000</td>\n",
              "      <td>299.000000</td>\n",
              "      <td>299.000000</td>\n",
              "      <td>299.000000</td>\n",
              "      <td>299.00000</td>\n",
              "      <td>299.000000</td>\n",
              "      <td>299.000000</td>\n",
              "      <td>299.00000</td>\n",
              "      <td>299.000000</td>\n",
              "      <td>299.00000</td>\n",
              "    </tr>\n",
              "    <tr>\n",
              "      <th>mean</th>\n",
              "      <td>60.833893</td>\n",
              "      <td>0.431438</td>\n",
              "      <td>581.839465</td>\n",
              "      <td>0.418060</td>\n",
              "      <td>38.083612</td>\n",
              "      <td>0.351171</td>\n",
              "      <td>263358.029264</td>\n",
              "      <td>1.39388</td>\n",
              "      <td>136.625418</td>\n",
              "      <td>0.648829</td>\n",
              "      <td>0.32107</td>\n",
              "      <td>130.260870</td>\n",
              "      <td>0.32107</td>\n",
              "    </tr>\n",
              "    <tr>\n",
              "      <th>std</th>\n",
              "      <td>11.894809</td>\n",
              "      <td>0.496107</td>\n",
              "      <td>970.287881</td>\n",
              "      <td>0.494067</td>\n",
              "      <td>11.834841</td>\n",
              "      <td>0.478136</td>\n",
              "      <td>97804.236869</td>\n",
              "      <td>1.03451</td>\n",
              "      <td>4.412477</td>\n",
              "      <td>0.478136</td>\n",
              "      <td>0.46767</td>\n",
              "      <td>77.614208</td>\n",
              "      <td>0.46767</td>\n",
              "    </tr>\n",
              "    <tr>\n",
              "      <th>min</th>\n",
              "      <td>40.000000</td>\n",
              "      <td>0.000000</td>\n",
              "      <td>23.000000</td>\n",
              "      <td>0.000000</td>\n",
              "      <td>14.000000</td>\n",
              "      <td>0.000000</td>\n",
              "      <td>25100.000000</td>\n",
              "      <td>0.50000</td>\n",
              "      <td>113.000000</td>\n",
              "      <td>0.000000</td>\n",
              "      <td>0.00000</td>\n",
              "      <td>4.000000</td>\n",
              "      <td>0.00000</td>\n",
              "    </tr>\n",
              "    <tr>\n",
              "      <th>25%</th>\n",
              "      <td>51.000000</td>\n",
              "      <td>0.000000</td>\n",
              "      <td>116.500000</td>\n",
              "      <td>0.000000</td>\n",
              "      <td>30.000000</td>\n",
              "      <td>0.000000</td>\n",
              "      <td>212500.000000</td>\n",
              "      <td>0.90000</td>\n",
              "      <td>134.000000</td>\n",
              "      <td>0.000000</td>\n",
              "      <td>0.00000</td>\n",
              "      <td>73.000000</td>\n",
              "      <td>0.00000</td>\n",
              "    </tr>\n",
              "    <tr>\n",
              "      <th>50%</th>\n",
              "      <td>60.000000</td>\n",
              "      <td>0.000000</td>\n",
              "      <td>250.000000</td>\n",
              "      <td>0.000000</td>\n",
              "      <td>38.000000</td>\n",
              "      <td>0.000000</td>\n",
              "      <td>262000.000000</td>\n",
              "      <td>1.10000</td>\n",
              "      <td>137.000000</td>\n",
              "      <td>1.000000</td>\n",
              "      <td>0.00000</td>\n",
              "      <td>115.000000</td>\n",
              "      <td>0.00000</td>\n",
              "    </tr>\n",
              "    <tr>\n",
              "      <th>75%</th>\n",
              "      <td>70.000000</td>\n",
              "      <td>1.000000</td>\n",
              "      <td>582.000000</td>\n",
              "      <td>1.000000</td>\n",
              "      <td>45.000000</td>\n",
              "      <td>1.000000</td>\n",
              "      <td>303500.000000</td>\n",
              "      <td>1.40000</td>\n",
              "      <td>140.000000</td>\n",
              "      <td>1.000000</td>\n",
              "      <td>1.00000</td>\n",
              "      <td>203.000000</td>\n",
              "      <td>1.00000</td>\n",
              "    </tr>\n",
              "    <tr>\n",
              "      <th>max</th>\n",
              "      <td>95.000000</td>\n",
              "      <td>1.000000</td>\n",
              "      <td>7861.000000</td>\n",
              "      <td>1.000000</td>\n",
              "      <td>80.000000</td>\n",
              "      <td>1.000000</td>\n",
              "      <td>850000.000000</td>\n",
              "      <td>9.40000</td>\n",
              "      <td>148.000000</td>\n",
              "      <td>1.000000</td>\n",
              "      <td>1.00000</td>\n",
              "      <td>285.000000</td>\n",
              "      <td>1.00000</td>\n",
              "    </tr>\n",
              "  </tbody>\n",
              "</table>\n",
              "</div>\n",
              "      <button class=\"colab-df-convert\" onclick=\"convertToInteractive('df-4d0badd1-6f74-451c-b3fb-cc7a2d373a53')\"\n",
              "              title=\"Convert this dataframe to an interactive table.\"\n",
              "              style=\"display:none;\">\n",
              "        \n",
              "  <svg xmlns=\"http://www.w3.org/2000/svg\" height=\"24px\"viewBox=\"0 0 24 24\"\n",
              "       width=\"24px\">\n",
              "    <path d=\"M0 0h24v24H0V0z\" fill=\"none\"/>\n",
              "    <path d=\"M18.56 5.44l.94 2.06.94-2.06 2.06-.94-2.06-.94-.94-2.06-.94 2.06-2.06.94zm-11 1L8.5 8.5l.94-2.06 2.06-.94-2.06-.94L8.5 2.5l-.94 2.06-2.06.94zm10 10l.94 2.06.94-2.06 2.06-.94-2.06-.94-.94-2.06-.94 2.06-2.06.94z\"/><path d=\"M17.41 7.96l-1.37-1.37c-.4-.4-.92-.59-1.43-.59-.52 0-1.04.2-1.43.59L10.3 9.45l-7.72 7.72c-.78.78-.78 2.05 0 2.83L4 21.41c.39.39.9.59 1.41.59.51 0 1.02-.2 1.41-.59l7.78-7.78 2.81-2.81c.8-.78.8-2.07 0-2.86zM5.41 20L4 18.59l7.72-7.72 1.47 1.35L5.41 20z\"/>\n",
              "  </svg>\n",
              "      </button>\n",
              "      \n",
              "  <style>\n",
              "    .colab-df-container {\n",
              "      display:flex;\n",
              "      flex-wrap:wrap;\n",
              "      gap: 12px;\n",
              "    }\n",
              "\n",
              "    .colab-df-convert {\n",
              "      background-color: #E8F0FE;\n",
              "      border: none;\n",
              "      border-radius: 50%;\n",
              "      cursor: pointer;\n",
              "      display: none;\n",
              "      fill: #1967D2;\n",
              "      height: 32px;\n",
              "      padding: 0 0 0 0;\n",
              "      width: 32px;\n",
              "    }\n",
              "\n",
              "    .colab-df-convert:hover {\n",
              "      background-color: #E2EBFA;\n",
              "      box-shadow: 0px 1px 2px rgba(60, 64, 67, 0.3), 0px 1px 3px 1px rgba(60, 64, 67, 0.15);\n",
              "      fill: #174EA6;\n",
              "    }\n",
              "\n",
              "    [theme=dark] .colab-df-convert {\n",
              "      background-color: #3B4455;\n",
              "      fill: #D2E3FC;\n",
              "    }\n",
              "\n",
              "    [theme=dark] .colab-df-convert:hover {\n",
              "      background-color: #434B5C;\n",
              "      box-shadow: 0px 1px 3px 1px rgba(0, 0, 0, 0.15);\n",
              "      filter: drop-shadow(0px 1px 2px rgba(0, 0, 0, 0.3));\n",
              "      fill: #FFFFFF;\n",
              "    }\n",
              "  </style>\n",
              "\n",
              "      <script>\n",
              "        const buttonEl =\n",
              "          document.querySelector('#df-4d0badd1-6f74-451c-b3fb-cc7a2d373a53 button.colab-df-convert');\n",
              "        buttonEl.style.display =\n",
              "          google.colab.kernel.accessAllowed ? 'block' : 'none';\n",
              "\n",
              "        async function convertToInteractive(key) {\n",
              "          const element = document.querySelector('#df-4d0badd1-6f74-451c-b3fb-cc7a2d373a53');\n",
              "          const dataTable =\n",
              "            await google.colab.kernel.invokeFunction('convertToInteractive',\n",
              "                                                     [key], {});\n",
              "          if (!dataTable) return;\n",
              "\n",
              "          const docLinkHtml = 'Like what you see? Visit the ' +\n",
              "            '<a target=\"_blank\" href=https://colab.research.google.com/notebooks/data_table.ipynb>data table notebook</a>'\n",
              "            + ' to learn more about interactive tables.';\n",
              "          element.innerHTML = '';\n",
              "          dataTable['output_type'] = 'display_data';\n",
              "          await google.colab.output.renderOutput(dataTable, element);\n",
              "          const docLink = document.createElement('div');\n",
              "          docLink.innerHTML = docLinkHtml;\n",
              "          element.appendChild(docLink);\n",
              "        }\n",
              "      </script>\n",
              "    </div>\n",
              "  </div>\n",
              "  "
            ]
          },
          "metadata": {},
          "execution_count": 4
        }
      ]
    },
    {
      "cell_type": "markdown",
      "source": [
        "***check the null values***"
      ],
      "metadata": {
        "id": "sUsEAX05hSUP"
      }
    },
    {
      "cell_type": "code",
      "source": [
        "data.isnull(). values. any()"
      ],
      "metadata": {
        "colab": {
          "base_uri": "https://localhost:8080/"
        },
        "id": "3rDTAqVXFU9S",
        "outputId": "782a54cf-da20-492b-b7c9-71b625c2e347"
      },
      "execution_count": null,
      "outputs": [
        {
          "output_type": "execute_result",
          "data": {
            "text/plain": [
              "False"
            ]
          },
          "metadata": {},
          "execution_count": 5
        }
      ]
    },
    {
      "cell_type": "code",
      "source": [
        "data=data.drop([\"platelets\" , \"creatinine_phosphokinase\"],axis=1)"
      ],
      "metadata": {
        "id": "7yWBqNsPA9iv"
      },
      "execution_count": null,
      "outputs": []
    },
    {
      "cell_type": "code",
      "source": [
        "data.shape"
      ],
      "metadata": {
        "colab": {
          "base_uri": "https://localhost:8080/"
        },
        "id": "2wdZ5-XeB78A",
        "outputId": "a5e374a9-0ce5-4076-e481-b9ef215f545f"
      },
      "execution_count": null,
      "outputs": [
        {
          "output_type": "execute_result",
          "data": {
            "text/plain": [
              "(299, 11)"
            ]
          },
          "metadata": {},
          "execution_count": 7
        }
      ]
    },
    {
      "cell_type": "code",
      "source": [
        "# def find_outliers_IQR(df):\n",
        "\n",
        "#     q1=df.quantile(0.25)\n",
        "\n",
        "#     q3=df.quantile(0.75)\n",
        "\n",
        "#     IQR=q3-q1\n",
        "\n",
        "#     outliers = df[((df<(q1-1.5*IQR)) | (df>(q3+1.5*IQR)))]\n",
        "\n",
        "#     return outliers"
      ],
      "metadata": {
        "id": "6C67luEP8CQf"
      },
      "execution_count": null,
      "outputs": []
    },
    {
      "cell_type": "code",
      "source": [
        "# for i in data.columns:\n",
        "#     outliers = find_outliers_IQR(data[i])\n",
        "#     print(f'outliers of coulmn {i}')\n",
        "#     print()\n",
        "#     print(\"number of outliers:\" + str(len(outliers)))\n",
        "#     print(\"max outlier value: \"+ str(outliers.max()))\n",
        "#     print(\"min outlier value: \" + str(outliers.min()))\n",
        "#     print('')\n",
        "#     print('-------------------------------------------')"
      ],
      "metadata": {
        "id": "RqTS-jSv8HAn"
      },
      "execution_count": null,
      "outputs": []
    },
    {
      "cell_type": "code",
      "source": [
        "# def find_outliers_Index(df,col):\n",
        "\n",
        "#     q1=df[col].quantile(0.25)\n",
        "\n",
        "#     q3=df[col].quantile(0.75)\n",
        "\n",
        "#     IQR=q3-q1\n",
        "\n",
        "#     outliers = df.index[((df[col]<(q1-1.5*IQR)) | (df[col]>(q3+1.5*IQR)))]\n",
        "\n",
        "#     return outliers"
      ],
      "metadata": {
        "id": "v83DCoEI8oSB"
      },
      "execution_count": null,
      "outputs": []
    },
    {
      "cell_type": "code",
      "source": [
        "# index_=[]\n",
        "# for col in data.columns:\n",
        "#     index_.extend(find_outliers_Index(data,col))\n",
        "# index_"
      ],
      "metadata": {
        "id": "4qHoaDxC8tyn"
      },
      "execution_count": null,
      "outputs": []
    },
    {
      "cell_type": "code",
      "source": [
        "# def remove_outliers(df,lst):\n",
        "#     lst=sorted(set(lst))\n",
        "#     df=df.drop(lst)\n",
        "#     return df"
      ],
      "metadata": {
        "id": "l1do-zHA89IP"
      },
      "execution_count": null,
      "outputs": []
    },
    {
      "cell_type": "code",
      "source": [
        "# data=remove_outliers(data,index_)\n",
        "# data"
      ],
      "metadata": {
        "id": "0qaiJuKL9X2a"
      },
      "execution_count": null,
      "outputs": []
    },
    {
      "cell_type": "markdown",
      "source": [
        "***split the cont and bin features***"
      ],
      "metadata": {
        "id": "QlFtj8vvhY3Q"
      }
    },
    {
      "cell_type": "code",
      "source": [
        "discrete_features, continuous_features = [], []\n",
        "for feature in data.columns:\n",
        "    if feature == 'DEATH_EVENT':\n",
        "        label = feature\n",
        "    elif len(data[feature].unique()) > 2:\n",
        "        continuous_features.append(feature)\n",
        "    else:\n",
        "        discrete_features.append(feature)\n",
        "\n",
        "print('Discrete: ', discrete_features, '\\n', 'Continuous:', continuous_features, '\\n', 'Label:', label)"
      ],
      "metadata": {
        "colab": {
          "base_uri": "https://localhost:8080/"
        },
        "id": "2srvDNjlnPkt",
        "outputId": "152e382b-d705-46ec-9e9c-bbfd68b521f7"
      },
      "execution_count": null,
      "outputs": [
        {
          "output_type": "stream",
          "name": "stdout",
          "text": [
            "Discrete:  ['anaemia', 'diabetes', 'high_blood_pressure', 'sex', 'smoking'] \n",
            " Continuous: ['age', 'ejection_fraction', 'serum_creatinine', 'serum_sodium', 'time'] \n",
            " Label: DEATH_EVENT\n"
          ]
        }
      ]
    },
    {
      "cell_type": "code",
      "source": [
        "data[discrete_features].head()"
      ],
      "metadata": {
        "colab": {
          "base_uri": "https://localhost:8080/",
          "height": 206
        },
        "id": "i069pTmanbS2",
        "outputId": "f4f9c946-0258-4d0a-8847-e55a57a13565"
      },
      "execution_count": null,
      "outputs": [
        {
          "output_type": "execute_result",
          "data": {
            "text/plain": [
              "   anaemia  diabetes  high_blood_pressure  sex  smoking\n",
              "0        0         0                    1    1        0\n",
              "1        0         0                    0    1        0\n",
              "2        0         0                    0    1        1\n",
              "3        1         0                    0    1        0\n",
              "4        1         1                    0    0        0"
            ],
            "text/html": [
              "\n",
              "  <div id=\"df-5ce9faee-1153-427f-9105-236b1363e389\">\n",
              "    <div class=\"colab-df-container\">\n",
              "      <div>\n",
              "<style scoped>\n",
              "    .dataframe tbody tr th:only-of-type {\n",
              "        vertical-align: middle;\n",
              "    }\n",
              "\n",
              "    .dataframe tbody tr th {\n",
              "        vertical-align: top;\n",
              "    }\n",
              "\n",
              "    .dataframe thead th {\n",
              "        text-align: right;\n",
              "    }\n",
              "</style>\n",
              "<table border=\"1\" class=\"dataframe\">\n",
              "  <thead>\n",
              "    <tr style=\"text-align: right;\">\n",
              "      <th></th>\n",
              "      <th>anaemia</th>\n",
              "      <th>diabetes</th>\n",
              "      <th>high_blood_pressure</th>\n",
              "      <th>sex</th>\n",
              "      <th>smoking</th>\n",
              "    </tr>\n",
              "  </thead>\n",
              "  <tbody>\n",
              "    <tr>\n",
              "      <th>0</th>\n",
              "      <td>0</td>\n",
              "      <td>0</td>\n",
              "      <td>1</td>\n",
              "      <td>1</td>\n",
              "      <td>0</td>\n",
              "    </tr>\n",
              "    <tr>\n",
              "      <th>1</th>\n",
              "      <td>0</td>\n",
              "      <td>0</td>\n",
              "      <td>0</td>\n",
              "      <td>1</td>\n",
              "      <td>0</td>\n",
              "    </tr>\n",
              "    <tr>\n",
              "      <th>2</th>\n",
              "      <td>0</td>\n",
              "      <td>0</td>\n",
              "      <td>0</td>\n",
              "      <td>1</td>\n",
              "      <td>1</td>\n",
              "    </tr>\n",
              "    <tr>\n",
              "      <th>3</th>\n",
              "      <td>1</td>\n",
              "      <td>0</td>\n",
              "      <td>0</td>\n",
              "      <td>1</td>\n",
              "      <td>0</td>\n",
              "    </tr>\n",
              "    <tr>\n",
              "      <th>4</th>\n",
              "      <td>1</td>\n",
              "      <td>1</td>\n",
              "      <td>0</td>\n",
              "      <td>0</td>\n",
              "      <td>0</td>\n",
              "    </tr>\n",
              "  </tbody>\n",
              "</table>\n",
              "</div>\n",
              "      <button class=\"colab-df-convert\" onclick=\"convertToInteractive('df-5ce9faee-1153-427f-9105-236b1363e389')\"\n",
              "              title=\"Convert this dataframe to an interactive table.\"\n",
              "              style=\"display:none;\">\n",
              "        \n",
              "  <svg xmlns=\"http://www.w3.org/2000/svg\" height=\"24px\"viewBox=\"0 0 24 24\"\n",
              "       width=\"24px\">\n",
              "    <path d=\"M0 0h24v24H0V0z\" fill=\"none\"/>\n",
              "    <path d=\"M18.56 5.44l.94 2.06.94-2.06 2.06-.94-2.06-.94-.94-2.06-.94 2.06-2.06.94zm-11 1L8.5 8.5l.94-2.06 2.06-.94-2.06-.94L8.5 2.5l-.94 2.06-2.06.94zm10 10l.94 2.06.94-2.06 2.06-.94-2.06-.94-.94-2.06-.94 2.06-2.06.94z\"/><path d=\"M17.41 7.96l-1.37-1.37c-.4-.4-.92-.59-1.43-.59-.52 0-1.04.2-1.43.59L10.3 9.45l-7.72 7.72c-.78.78-.78 2.05 0 2.83L4 21.41c.39.39.9.59 1.41.59.51 0 1.02-.2 1.41-.59l7.78-7.78 2.81-2.81c.8-.78.8-2.07 0-2.86zM5.41 20L4 18.59l7.72-7.72 1.47 1.35L5.41 20z\"/>\n",
              "  </svg>\n",
              "      </button>\n",
              "      \n",
              "  <style>\n",
              "    .colab-df-container {\n",
              "      display:flex;\n",
              "      flex-wrap:wrap;\n",
              "      gap: 12px;\n",
              "    }\n",
              "\n",
              "    .colab-df-convert {\n",
              "      background-color: #E8F0FE;\n",
              "      border: none;\n",
              "      border-radius: 50%;\n",
              "      cursor: pointer;\n",
              "      display: none;\n",
              "      fill: #1967D2;\n",
              "      height: 32px;\n",
              "      padding: 0 0 0 0;\n",
              "      width: 32px;\n",
              "    }\n",
              "\n",
              "    .colab-df-convert:hover {\n",
              "      background-color: #E2EBFA;\n",
              "      box-shadow: 0px 1px 2px rgba(60, 64, 67, 0.3), 0px 1px 3px 1px rgba(60, 64, 67, 0.15);\n",
              "      fill: #174EA6;\n",
              "    }\n",
              "\n",
              "    [theme=dark] .colab-df-convert {\n",
              "      background-color: #3B4455;\n",
              "      fill: #D2E3FC;\n",
              "    }\n",
              "\n",
              "    [theme=dark] .colab-df-convert:hover {\n",
              "      background-color: #434B5C;\n",
              "      box-shadow: 0px 1px 3px 1px rgba(0, 0, 0, 0.15);\n",
              "      filter: drop-shadow(0px 1px 2px rgba(0, 0, 0, 0.3));\n",
              "      fill: #FFFFFF;\n",
              "    }\n",
              "  </style>\n",
              "\n",
              "      <script>\n",
              "        const buttonEl =\n",
              "          document.querySelector('#df-5ce9faee-1153-427f-9105-236b1363e389 button.colab-df-convert');\n",
              "        buttonEl.style.display =\n",
              "          google.colab.kernel.accessAllowed ? 'block' : 'none';\n",
              "\n",
              "        async function convertToInteractive(key) {\n",
              "          const element = document.querySelector('#df-5ce9faee-1153-427f-9105-236b1363e389');\n",
              "          const dataTable =\n",
              "            await google.colab.kernel.invokeFunction('convertToInteractive',\n",
              "                                                     [key], {});\n",
              "          if (!dataTable) return;\n",
              "\n",
              "          const docLinkHtml = 'Like what you see? Visit the ' +\n",
              "            '<a target=\"_blank\" href=https://colab.research.google.com/notebooks/data_table.ipynb>data table notebook</a>'\n",
              "            + ' to learn more about interactive tables.';\n",
              "          element.innerHTML = '';\n",
              "          dataTable['output_type'] = 'display_data';\n",
              "          await google.colab.output.renderOutput(dataTable, element);\n",
              "          const docLink = document.createElement('div');\n",
              "          docLink.innerHTML = docLinkHtml;\n",
              "          element.appendChild(docLink);\n",
              "        }\n",
              "      </script>\n",
              "    </div>\n",
              "  </div>\n",
              "  "
            ]
          },
          "metadata": {},
          "execution_count": 15
        }
      ]
    },
    {
      "cell_type": "code",
      "source": [
        "data[continuous_features].head()"
      ],
      "metadata": {
        "colab": {
          "base_uri": "https://localhost:8080/",
          "height": 206
        },
        "id": "T0qyclGmnhFd",
        "outputId": "7b226ff7-42f1-495e-b312-caef0f364cf5"
      },
      "execution_count": null,
      "outputs": [
        {
          "output_type": "execute_result",
          "data": {
            "text/plain": [
              "    age  ejection_fraction  serum_creatinine  serum_sodium  time\n",
              "0  75.0                 20               1.9           130     4\n",
              "1  55.0                 38               1.1           136     6\n",
              "2  65.0                 20               1.3           129     7\n",
              "3  50.0                 20               1.9           137     7\n",
              "4  65.0                 20               2.7           116     8"
            ],
            "text/html": [
              "\n",
              "  <div id=\"df-77225f41-c222-4267-84b5-84e1cb864529\">\n",
              "    <div class=\"colab-df-container\">\n",
              "      <div>\n",
              "<style scoped>\n",
              "    .dataframe tbody tr th:only-of-type {\n",
              "        vertical-align: middle;\n",
              "    }\n",
              "\n",
              "    .dataframe tbody tr th {\n",
              "        vertical-align: top;\n",
              "    }\n",
              "\n",
              "    .dataframe thead th {\n",
              "        text-align: right;\n",
              "    }\n",
              "</style>\n",
              "<table border=\"1\" class=\"dataframe\">\n",
              "  <thead>\n",
              "    <tr style=\"text-align: right;\">\n",
              "      <th></th>\n",
              "      <th>age</th>\n",
              "      <th>ejection_fraction</th>\n",
              "      <th>serum_creatinine</th>\n",
              "      <th>serum_sodium</th>\n",
              "      <th>time</th>\n",
              "    </tr>\n",
              "  </thead>\n",
              "  <tbody>\n",
              "    <tr>\n",
              "      <th>0</th>\n",
              "      <td>75.0</td>\n",
              "      <td>20</td>\n",
              "      <td>1.9</td>\n",
              "      <td>130</td>\n",
              "      <td>4</td>\n",
              "    </tr>\n",
              "    <tr>\n",
              "      <th>1</th>\n",
              "      <td>55.0</td>\n",
              "      <td>38</td>\n",
              "      <td>1.1</td>\n",
              "      <td>136</td>\n",
              "      <td>6</td>\n",
              "    </tr>\n",
              "    <tr>\n",
              "      <th>2</th>\n",
              "      <td>65.0</td>\n",
              "      <td>20</td>\n",
              "      <td>1.3</td>\n",
              "      <td>129</td>\n",
              "      <td>7</td>\n",
              "    </tr>\n",
              "    <tr>\n",
              "      <th>3</th>\n",
              "      <td>50.0</td>\n",
              "      <td>20</td>\n",
              "      <td>1.9</td>\n",
              "      <td>137</td>\n",
              "      <td>7</td>\n",
              "    </tr>\n",
              "    <tr>\n",
              "      <th>4</th>\n",
              "      <td>65.0</td>\n",
              "      <td>20</td>\n",
              "      <td>2.7</td>\n",
              "      <td>116</td>\n",
              "      <td>8</td>\n",
              "    </tr>\n",
              "  </tbody>\n",
              "</table>\n",
              "</div>\n",
              "      <button class=\"colab-df-convert\" onclick=\"convertToInteractive('df-77225f41-c222-4267-84b5-84e1cb864529')\"\n",
              "              title=\"Convert this dataframe to an interactive table.\"\n",
              "              style=\"display:none;\">\n",
              "        \n",
              "  <svg xmlns=\"http://www.w3.org/2000/svg\" height=\"24px\"viewBox=\"0 0 24 24\"\n",
              "       width=\"24px\">\n",
              "    <path d=\"M0 0h24v24H0V0z\" fill=\"none\"/>\n",
              "    <path d=\"M18.56 5.44l.94 2.06.94-2.06 2.06-.94-2.06-.94-.94-2.06-.94 2.06-2.06.94zm-11 1L8.5 8.5l.94-2.06 2.06-.94-2.06-.94L8.5 2.5l-.94 2.06-2.06.94zm10 10l.94 2.06.94-2.06 2.06-.94-2.06-.94-.94-2.06-.94 2.06-2.06.94z\"/><path d=\"M17.41 7.96l-1.37-1.37c-.4-.4-.92-.59-1.43-.59-.52 0-1.04.2-1.43.59L10.3 9.45l-7.72 7.72c-.78.78-.78 2.05 0 2.83L4 21.41c.39.39.9.59 1.41.59.51 0 1.02-.2 1.41-.59l7.78-7.78 2.81-2.81c.8-.78.8-2.07 0-2.86zM5.41 20L4 18.59l7.72-7.72 1.47 1.35L5.41 20z\"/>\n",
              "  </svg>\n",
              "      </button>\n",
              "      \n",
              "  <style>\n",
              "    .colab-df-container {\n",
              "      display:flex;\n",
              "      flex-wrap:wrap;\n",
              "      gap: 12px;\n",
              "    }\n",
              "\n",
              "    .colab-df-convert {\n",
              "      background-color: #E8F0FE;\n",
              "      border: none;\n",
              "      border-radius: 50%;\n",
              "      cursor: pointer;\n",
              "      display: none;\n",
              "      fill: #1967D2;\n",
              "      height: 32px;\n",
              "      padding: 0 0 0 0;\n",
              "      width: 32px;\n",
              "    }\n",
              "\n",
              "    .colab-df-convert:hover {\n",
              "      background-color: #E2EBFA;\n",
              "      box-shadow: 0px 1px 2px rgba(60, 64, 67, 0.3), 0px 1px 3px 1px rgba(60, 64, 67, 0.15);\n",
              "      fill: #174EA6;\n",
              "    }\n",
              "\n",
              "    [theme=dark] .colab-df-convert {\n",
              "      background-color: #3B4455;\n",
              "      fill: #D2E3FC;\n",
              "    }\n",
              "\n",
              "    [theme=dark] .colab-df-convert:hover {\n",
              "      background-color: #434B5C;\n",
              "      box-shadow: 0px 1px 3px 1px rgba(0, 0, 0, 0.15);\n",
              "      filter: drop-shadow(0px 1px 2px rgba(0, 0, 0, 0.3));\n",
              "      fill: #FFFFFF;\n",
              "    }\n",
              "  </style>\n",
              "\n",
              "      <script>\n",
              "        const buttonEl =\n",
              "          document.querySelector('#df-77225f41-c222-4267-84b5-84e1cb864529 button.colab-df-convert');\n",
              "        buttonEl.style.display =\n",
              "          google.colab.kernel.accessAllowed ? 'block' : 'none';\n",
              "\n",
              "        async function convertToInteractive(key) {\n",
              "          const element = document.querySelector('#df-77225f41-c222-4267-84b5-84e1cb864529');\n",
              "          const dataTable =\n",
              "            await google.colab.kernel.invokeFunction('convertToInteractive',\n",
              "                                                     [key], {});\n",
              "          if (!dataTable) return;\n",
              "\n",
              "          const docLinkHtml = 'Like what you see? Visit the ' +\n",
              "            '<a target=\"_blank\" href=https://colab.research.google.com/notebooks/data_table.ipynb>data table notebook</a>'\n",
              "            + ' to learn more about interactive tables.';\n",
              "          element.innerHTML = '';\n",
              "          dataTable['output_type'] = 'display_data';\n",
              "          await google.colab.output.renderOutput(dataTable, element);\n",
              "          const docLink = document.createElement('div');\n",
              "          docLink.innerHTML = docLinkHtml;\n",
              "          element.appendChild(docLink);\n",
              "        }\n",
              "      </script>\n",
              "    </div>\n",
              "  </div>\n",
              "  "
            ]
          },
          "metadata": {},
          "execution_count": 16
        }
      ]
    },
    {
      "cell_type": "markdown",
      "source": [],
      "metadata": {
        "id": "H3FnmTUBhiX5"
      }
    },
    {
      "cell_type": "markdown",
      "source": [
        "***scaling cont features***"
      ],
      "metadata": {
        "id": "Wa3lsuMihieC"
      }
    },
    {
      "cell_type": "code",
      "source": [
        "from sklearn.preprocessing import MinMaxScaler\n",
        "scaler = MinMaxScaler(feature_range=(0,1))\n",
        "scaler.fit(data[continuous_features])\n",
        "scaled_continuous_features = scaler.transform(data[continuous_features])\n",
        "scaled_continuous_features = pd.DataFrame(data=scaled_continuous_features, columns=['age', 'ejection_fraction', 'serum_sodium','serum_sodium' ,'time' ])\n",
        "scaled_continuous_features.head()"
      ],
      "metadata": {
        "colab": {
          "base_uri": "https://localhost:8080/",
          "height": 206
        },
        "id": "rEE-QlAUnko_",
        "outputId": "ffaa9444-e194-407c-f9ce-64840a934646"
      },
      "execution_count": null,
      "outputs": [
        {
          "output_type": "execute_result",
          "data": {
            "text/plain": [
              "        age  ejection_fraction  serum_sodium  serum_sodium      time\n",
              "0  0.636364           0.090909      0.157303      0.485714  0.000000\n",
              "1  0.272727           0.363636      0.067416      0.657143  0.007117\n",
              "2  0.454545           0.090909      0.089888      0.457143  0.010676\n",
              "3  0.181818           0.090909      0.157303      0.685714  0.010676\n",
              "4  0.454545           0.090909      0.247191      0.085714  0.014235"
            ],
            "text/html": [
              "\n",
              "  <div id=\"df-eddefa69-89fd-4b8b-9a93-389903035821\">\n",
              "    <div class=\"colab-df-container\">\n",
              "      <div>\n",
              "<style scoped>\n",
              "    .dataframe tbody tr th:only-of-type {\n",
              "        vertical-align: middle;\n",
              "    }\n",
              "\n",
              "    .dataframe tbody tr th {\n",
              "        vertical-align: top;\n",
              "    }\n",
              "\n",
              "    .dataframe thead th {\n",
              "        text-align: right;\n",
              "    }\n",
              "</style>\n",
              "<table border=\"1\" class=\"dataframe\">\n",
              "  <thead>\n",
              "    <tr style=\"text-align: right;\">\n",
              "      <th></th>\n",
              "      <th>age</th>\n",
              "      <th>ejection_fraction</th>\n",
              "      <th>serum_sodium</th>\n",
              "      <th>serum_sodium</th>\n",
              "      <th>time</th>\n",
              "    </tr>\n",
              "  </thead>\n",
              "  <tbody>\n",
              "    <tr>\n",
              "      <th>0</th>\n",
              "      <td>0.636364</td>\n",
              "      <td>0.090909</td>\n",
              "      <td>0.157303</td>\n",
              "      <td>0.485714</td>\n",
              "      <td>0.000000</td>\n",
              "    </tr>\n",
              "    <tr>\n",
              "      <th>1</th>\n",
              "      <td>0.272727</td>\n",
              "      <td>0.363636</td>\n",
              "      <td>0.067416</td>\n",
              "      <td>0.657143</td>\n",
              "      <td>0.007117</td>\n",
              "    </tr>\n",
              "    <tr>\n",
              "      <th>2</th>\n",
              "      <td>0.454545</td>\n",
              "      <td>0.090909</td>\n",
              "      <td>0.089888</td>\n",
              "      <td>0.457143</td>\n",
              "      <td>0.010676</td>\n",
              "    </tr>\n",
              "    <tr>\n",
              "      <th>3</th>\n",
              "      <td>0.181818</td>\n",
              "      <td>0.090909</td>\n",
              "      <td>0.157303</td>\n",
              "      <td>0.685714</td>\n",
              "      <td>0.010676</td>\n",
              "    </tr>\n",
              "    <tr>\n",
              "      <th>4</th>\n",
              "      <td>0.454545</td>\n",
              "      <td>0.090909</td>\n",
              "      <td>0.247191</td>\n",
              "      <td>0.085714</td>\n",
              "      <td>0.014235</td>\n",
              "    </tr>\n",
              "  </tbody>\n",
              "</table>\n",
              "</div>\n",
              "      <button class=\"colab-df-convert\" onclick=\"convertToInteractive('df-eddefa69-89fd-4b8b-9a93-389903035821')\"\n",
              "              title=\"Convert this dataframe to an interactive table.\"\n",
              "              style=\"display:none;\">\n",
              "        \n",
              "  <svg xmlns=\"http://www.w3.org/2000/svg\" height=\"24px\"viewBox=\"0 0 24 24\"\n",
              "       width=\"24px\">\n",
              "    <path d=\"M0 0h24v24H0V0z\" fill=\"none\"/>\n",
              "    <path d=\"M18.56 5.44l.94 2.06.94-2.06 2.06-.94-2.06-.94-.94-2.06-.94 2.06-2.06.94zm-11 1L8.5 8.5l.94-2.06 2.06-.94-2.06-.94L8.5 2.5l-.94 2.06-2.06.94zm10 10l.94 2.06.94-2.06 2.06-.94-2.06-.94-.94-2.06-.94 2.06-2.06.94z\"/><path d=\"M17.41 7.96l-1.37-1.37c-.4-.4-.92-.59-1.43-.59-.52 0-1.04.2-1.43.59L10.3 9.45l-7.72 7.72c-.78.78-.78 2.05 0 2.83L4 21.41c.39.39.9.59 1.41.59.51 0 1.02-.2 1.41-.59l7.78-7.78 2.81-2.81c.8-.78.8-2.07 0-2.86zM5.41 20L4 18.59l7.72-7.72 1.47 1.35L5.41 20z\"/>\n",
              "  </svg>\n",
              "      </button>\n",
              "      \n",
              "  <style>\n",
              "    .colab-df-container {\n",
              "      display:flex;\n",
              "      flex-wrap:wrap;\n",
              "      gap: 12px;\n",
              "    }\n",
              "\n",
              "    .colab-df-convert {\n",
              "      background-color: #E8F0FE;\n",
              "      border: none;\n",
              "      border-radius: 50%;\n",
              "      cursor: pointer;\n",
              "      display: none;\n",
              "      fill: #1967D2;\n",
              "      height: 32px;\n",
              "      padding: 0 0 0 0;\n",
              "      width: 32px;\n",
              "    }\n",
              "\n",
              "    .colab-df-convert:hover {\n",
              "      background-color: #E2EBFA;\n",
              "      box-shadow: 0px 1px 2px rgba(60, 64, 67, 0.3), 0px 1px 3px 1px rgba(60, 64, 67, 0.15);\n",
              "      fill: #174EA6;\n",
              "    }\n",
              "\n",
              "    [theme=dark] .colab-df-convert {\n",
              "      background-color: #3B4455;\n",
              "      fill: #D2E3FC;\n",
              "    }\n",
              "\n",
              "    [theme=dark] .colab-df-convert:hover {\n",
              "      background-color: #434B5C;\n",
              "      box-shadow: 0px 1px 3px 1px rgba(0, 0, 0, 0.15);\n",
              "      filter: drop-shadow(0px 1px 2px rgba(0, 0, 0, 0.3));\n",
              "      fill: #FFFFFF;\n",
              "    }\n",
              "  </style>\n",
              "\n",
              "      <script>\n",
              "        const buttonEl =\n",
              "          document.querySelector('#df-eddefa69-89fd-4b8b-9a93-389903035821 button.colab-df-convert');\n",
              "        buttonEl.style.display =\n",
              "          google.colab.kernel.accessAllowed ? 'block' : 'none';\n",
              "\n",
              "        async function convertToInteractive(key) {\n",
              "          const element = document.querySelector('#df-eddefa69-89fd-4b8b-9a93-389903035821');\n",
              "          const dataTable =\n",
              "            await google.colab.kernel.invokeFunction('convertToInteractive',\n",
              "                                                     [key], {});\n",
              "          if (!dataTable) return;\n",
              "\n",
              "          const docLinkHtml = 'Like what you see? Visit the ' +\n",
              "            '<a target=\"_blank\" href=https://colab.research.google.com/notebooks/data_table.ipynb>data table notebook</a>'\n",
              "            + ' to learn more about interactive tables.';\n",
              "          element.innerHTML = '';\n",
              "          dataTable['output_type'] = 'display_data';\n",
              "          await google.colab.output.renderOutput(dataTable, element);\n",
              "          const docLink = document.createElement('div');\n",
              "          docLink.innerHTML = docLinkHtml;\n",
              "          element.appendChild(docLink);\n",
              "        }\n",
              "      </script>\n",
              "    </div>\n",
              "  </div>\n",
              "  "
            ]
          },
          "metadata": {},
          "execution_count": 17
        }
      ]
    },
    {
      "cell_type": "markdown",
      "source": [
        "***concatenate all fature***"
      ],
      "metadata": {
        "id": "5k4V3NAQhqgw"
      }
    },
    {
      "cell_type": "code",
      "source": [
        "scaled_data = pd.concat([data[discrete_features], scaled_continuous_features, data['DEATH_EVENT']], axis=1)\n",
        "scaled_data.describe()"
      ],
      "metadata": {
        "colab": {
          "base_uri": "https://localhost:8080/",
          "height": 301
        },
        "id": "_h-A9CosoFoy",
        "outputId": "608e75e0-fa03-421d-89ac-16e56dc963a5"
      },
      "execution_count": null,
      "outputs": [
        {
          "output_type": "execute_result",
          "data": {
            "text/plain": [
              "          anaemia    diabetes  high_blood_pressure         sex    smoking  \\\n",
              "count  299.000000  299.000000           299.000000  299.000000  299.00000   \n",
              "mean     0.431438    0.418060             0.351171    0.648829    0.32107   \n",
              "std      0.496107    0.494067             0.478136    0.478136    0.46767   \n",
              "min      0.000000    0.000000             0.000000    0.000000    0.00000   \n",
              "25%      0.000000    0.000000             0.000000    0.000000    0.00000   \n",
              "50%      0.000000    0.000000             0.000000    1.000000    0.00000   \n",
              "75%      1.000000    1.000000             1.000000    1.000000    1.00000   \n",
              "max      1.000000    1.000000             1.000000    1.000000    1.00000   \n",
              "\n",
              "              age  ejection_fraction  serum_sodium  serum_sodium        time  \\\n",
              "count  299.000000         299.000000    299.000000    299.000000  299.000000   \n",
              "mean     0.378798           0.364903      0.100436      0.675012    0.449327   \n",
              "std      0.216269           0.179316      0.116237      0.126071    0.276207   \n",
              "min      0.000000           0.000000      0.000000      0.000000    0.000000   \n",
              "25%      0.200000           0.242424      0.044944      0.600000    0.245552   \n",
              "50%      0.363636           0.363636      0.067416      0.685714    0.395018   \n",
              "75%      0.545455           0.469697      0.101124      0.771429    0.708185   \n",
              "max      1.000000           1.000000      1.000000      1.000000    1.000000   \n",
              "\n",
              "       DEATH_EVENT  \n",
              "count    299.00000  \n",
              "mean       0.32107  \n",
              "std        0.46767  \n",
              "min        0.00000  \n",
              "25%        0.00000  \n",
              "50%        0.00000  \n",
              "75%        1.00000  \n",
              "max        1.00000  "
            ],
            "text/html": [
              "\n",
              "  <div id=\"df-120b227b-0802-4962-976f-2e7e7ecbc9a3\">\n",
              "    <div class=\"colab-df-container\">\n",
              "      <div>\n",
              "<style scoped>\n",
              "    .dataframe tbody tr th:only-of-type {\n",
              "        vertical-align: middle;\n",
              "    }\n",
              "\n",
              "    .dataframe tbody tr th {\n",
              "        vertical-align: top;\n",
              "    }\n",
              "\n",
              "    .dataframe thead th {\n",
              "        text-align: right;\n",
              "    }\n",
              "</style>\n",
              "<table border=\"1\" class=\"dataframe\">\n",
              "  <thead>\n",
              "    <tr style=\"text-align: right;\">\n",
              "      <th></th>\n",
              "      <th>anaemia</th>\n",
              "      <th>diabetes</th>\n",
              "      <th>high_blood_pressure</th>\n",
              "      <th>sex</th>\n",
              "      <th>smoking</th>\n",
              "      <th>age</th>\n",
              "      <th>ejection_fraction</th>\n",
              "      <th>serum_sodium</th>\n",
              "      <th>serum_sodium</th>\n",
              "      <th>time</th>\n",
              "      <th>DEATH_EVENT</th>\n",
              "    </tr>\n",
              "  </thead>\n",
              "  <tbody>\n",
              "    <tr>\n",
              "      <th>count</th>\n",
              "      <td>299.000000</td>\n",
              "      <td>299.000000</td>\n",
              "      <td>299.000000</td>\n",
              "      <td>299.000000</td>\n",
              "      <td>299.00000</td>\n",
              "      <td>299.000000</td>\n",
              "      <td>299.000000</td>\n",
              "      <td>299.000000</td>\n",
              "      <td>299.000000</td>\n",
              "      <td>299.000000</td>\n",
              "      <td>299.00000</td>\n",
              "    </tr>\n",
              "    <tr>\n",
              "      <th>mean</th>\n",
              "      <td>0.431438</td>\n",
              "      <td>0.418060</td>\n",
              "      <td>0.351171</td>\n",
              "      <td>0.648829</td>\n",
              "      <td>0.32107</td>\n",
              "      <td>0.378798</td>\n",
              "      <td>0.364903</td>\n",
              "      <td>0.100436</td>\n",
              "      <td>0.675012</td>\n",
              "      <td>0.449327</td>\n",
              "      <td>0.32107</td>\n",
              "    </tr>\n",
              "    <tr>\n",
              "      <th>std</th>\n",
              "      <td>0.496107</td>\n",
              "      <td>0.494067</td>\n",
              "      <td>0.478136</td>\n",
              "      <td>0.478136</td>\n",
              "      <td>0.46767</td>\n",
              "      <td>0.216269</td>\n",
              "      <td>0.179316</td>\n",
              "      <td>0.116237</td>\n",
              "      <td>0.126071</td>\n",
              "      <td>0.276207</td>\n",
              "      <td>0.46767</td>\n",
              "    </tr>\n",
              "    <tr>\n",
              "      <th>min</th>\n",
              "      <td>0.000000</td>\n",
              "      <td>0.000000</td>\n",
              "      <td>0.000000</td>\n",
              "      <td>0.000000</td>\n",
              "      <td>0.00000</td>\n",
              "      <td>0.000000</td>\n",
              "      <td>0.000000</td>\n",
              "      <td>0.000000</td>\n",
              "      <td>0.000000</td>\n",
              "      <td>0.000000</td>\n",
              "      <td>0.00000</td>\n",
              "    </tr>\n",
              "    <tr>\n",
              "      <th>25%</th>\n",
              "      <td>0.000000</td>\n",
              "      <td>0.000000</td>\n",
              "      <td>0.000000</td>\n",
              "      <td>0.000000</td>\n",
              "      <td>0.00000</td>\n",
              "      <td>0.200000</td>\n",
              "      <td>0.242424</td>\n",
              "      <td>0.044944</td>\n",
              "      <td>0.600000</td>\n",
              "      <td>0.245552</td>\n",
              "      <td>0.00000</td>\n",
              "    </tr>\n",
              "    <tr>\n",
              "      <th>50%</th>\n",
              "      <td>0.000000</td>\n",
              "      <td>0.000000</td>\n",
              "      <td>0.000000</td>\n",
              "      <td>1.000000</td>\n",
              "      <td>0.00000</td>\n",
              "      <td>0.363636</td>\n",
              "      <td>0.363636</td>\n",
              "      <td>0.067416</td>\n",
              "      <td>0.685714</td>\n",
              "      <td>0.395018</td>\n",
              "      <td>0.00000</td>\n",
              "    </tr>\n",
              "    <tr>\n",
              "      <th>75%</th>\n",
              "      <td>1.000000</td>\n",
              "      <td>1.000000</td>\n",
              "      <td>1.000000</td>\n",
              "      <td>1.000000</td>\n",
              "      <td>1.00000</td>\n",
              "      <td>0.545455</td>\n",
              "      <td>0.469697</td>\n",
              "      <td>0.101124</td>\n",
              "      <td>0.771429</td>\n",
              "      <td>0.708185</td>\n",
              "      <td>1.00000</td>\n",
              "    </tr>\n",
              "    <tr>\n",
              "      <th>max</th>\n",
              "      <td>1.000000</td>\n",
              "      <td>1.000000</td>\n",
              "      <td>1.000000</td>\n",
              "      <td>1.000000</td>\n",
              "      <td>1.00000</td>\n",
              "      <td>1.000000</td>\n",
              "      <td>1.000000</td>\n",
              "      <td>1.000000</td>\n",
              "      <td>1.000000</td>\n",
              "      <td>1.000000</td>\n",
              "      <td>1.00000</td>\n",
              "    </tr>\n",
              "  </tbody>\n",
              "</table>\n",
              "</div>\n",
              "      <button class=\"colab-df-convert\" onclick=\"convertToInteractive('df-120b227b-0802-4962-976f-2e7e7ecbc9a3')\"\n",
              "              title=\"Convert this dataframe to an interactive table.\"\n",
              "              style=\"display:none;\">\n",
              "        \n",
              "  <svg xmlns=\"http://www.w3.org/2000/svg\" height=\"24px\"viewBox=\"0 0 24 24\"\n",
              "       width=\"24px\">\n",
              "    <path d=\"M0 0h24v24H0V0z\" fill=\"none\"/>\n",
              "    <path d=\"M18.56 5.44l.94 2.06.94-2.06 2.06-.94-2.06-.94-.94-2.06-.94 2.06-2.06.94zm-11 1L8.5 8.5l.94-2.06 2.06-.94-2.06-.94L8.5 2.5l-.94 2.06-2.06.94zm10 10l.94 2.06.94-2.06 2.06-.94-2.06-.94-.94-2.06-.94 2.06-2.06.94z\"/><path d=\"M17.41 7.96l-1.37-1.37c-.4-.4-.92-.59-1.43-.59-.52 0-1.04.2-1.43.59L10.3 9.45l-7.72 7.72c-.78.78-.78 2.05 0 2.83L4 21.41c.39.39.9.59 1.41.59.51 0 1.02-.2 1.41-.59l7.78-7.78 2.81-2.81c.8-.78.8-2.07 0-2.86zM5.41 20L4 18.59l7.72-7.72 1.47 1.35L5.41 20z\"/>\n",
              "  </svg>\n",
              "      </button>\n",
              "      \n",
              "  <style>\n",
              "    .colab-df-container {\n",
              "      display:flex;\n",
              "      flex-wrap:wrap;\n",
              "      gap: 12px;\n",
              "    }\n",
              "\n",
              "    .colab-df-convert {\n",
              "      background-color: #E8F0FE;\n",
              "      border: none;\n",
              "      border-radius: 50%;\n",
              "      cursor: pointer;\n",
              "      display: none;\n",
              "      fill: #1967D2;\n",
              "      height: 32px;\n",
              "      padding: 0 0 0 0;\n",
              "      width: 32px;\n",
              "    }\n",
              "\n",
              "    .colab-df-convert:hover {\n",
              "      background-color: #E2EBFA;\n",
              "      box-shadow: 0px 1px 2px rgba(60, 64, 67, 0.3), 0px 1px 3px 1px rgba(60, 64, 67, 0.15);\n",
              "      fill: #174EA6;\n",
              "    }\n",
              "\n",
              "    [theme=dark] .colab-df-convert {\n",
              "      background-color: #3B4455;\n",
              "      fill: #D2E3FC;\n",
              "    }\n",
              "\n",
              "    [theme=dark] .colab-df-convert:hover {\n",
              "      background-color: #434B5C;\n",
              "      box-shadow: 0px 1px 3px 1px rgba(0, 0, 0, 0.15);\n",
              "      filter: drop-shadow(0px 1px 2px rgba(0, 0, 0, 0.3));\n",
              "      fill: #FFFFFF;\n",
              "    }\n",
              "  </style>\n",
              "\n",
              "      <script>\n",
              "        const buttonEl =\n",
              "          document.querySelector('#df-120b227b-0802-4962-976f-2e7e7ecbc9a3 button.colab-df-convert');\n",
              "        buttonEl.style.display =\n",
              "          google.colab.kernel.accessAllowed ? 'block' : 'none';\n",
              "\n",
              "        async function convertToInteractive(key) {\n",
              "          const element = document.querySelector('#df-120b227b-0802-4962-976f-2e7e7ecbc9a3');\n",
              "          const dataTable =\n",
              "            await google.colab.kernel.invokeFunction('convertToInteractive',\n",
              "                                                     [key], {});\n",
              "          if (!dataTable) return;\n",
              "\n",
              "          const docLinkHtml = 'Like what you see? Visit the ' +\n",
              "            '<a target=\"_blank\" href=https://colab.research.google.com/notebooks/data_table.ipynb>data table notebook</a>'\n",
              "            + ' to learn more about interactive tables.';\n",
              "          element.innerHTML = '';\n",
              "          dataTable['output_type'] = 'display_data';\n",
              "          await google.colab.output.renderOutput(dataTable, element);\n",
              "          const docLink = document.createElement('div');\n",
              "          docLink.innerHTML = docLinkHtml;\n",
              "          element.appendChild(docLink);\n",
              "        }\n",
              "      </script>\n",
              "    </div>\n",
              "  </div>\n",
              "  "
            ]
          },
          "metadata": {},
          "execution_count": 18
        }
      ]
    },
    {
      "cell_type": "code",
      "source": [
        "scaled_data"
      ],
      "metadata": {
        "colab": {
          "base_uri": "https://localhost:8080/",
          "height": 424
        },
        "id": "w0nT6iH6wm8G",
        "outputId": "70d31b8b-8d09-4ca8-aed1-4833a94cbd21"
      },
      "execution_count": null,
      "outputs": [
        {
          "output_type": "execute_result",
          "data": {
            "text/plain": [
              "     anaemia  diabetes  high_blood_pressure  sex  smoking       age  \\\n",
              "0          0         0                    1    1        0  0.636364   \n",
              "1          0         0                    0    1        0  0.272727   \n",
              "2          0         0                    0    1        1  0.454545   \n",
              "3          1         0                    0    1        0  0.181818   \n",
              "4          1         1                    0    0        0  0.454545   \n",
              "..       ...       ...                  ...  ...      ...       ...   \n",
              "294        0         1                    1    1        1  0.400000   \n",
              "295        0         0                    0    0        0  0.272727   \n",
              "296        0         1                    0    0        0  0.090909   \n",
              "297        0         0                    0    1        1  0.090909   \n",
              "298        0         0                    0    1        1  0.181818   \n",
              "\n",
              "     ejection_fraction  serum_sodium  serum_sodium      time  DEATH_EVENT  \n",
              "0             0.090909      0.157303      0.485714  0.000000            1  \n",
              "1             0.363636      0.067416      0.657143  0.007117            1  \n",
              "2             0.090909      0.089888      0.457143  0.010676            1  \n",
              "3             0.090909      0.157303      0.685714  0.010676            1  \n",
              "4             0.090909      0.247191      0.085714  0.014235            1  \n",
              "..                 ...           ...           ...       ...          ...  \n",
              "294           0.363636      0.067416      0.857143  0.946619            0  \n",
              "295           0.363636      0.078652      0.742857  0.950178            0  \n",
              "296           0.696970      0.033708      0.714286  0.975089            0  \n",
              "297           0.363636      0.101124      0.771429  0.982206            0  \n",
              "298           0.469697      0.123596      0.657143  1.000000            0  \n",
              "\n",
              "[299 rows x 11 columns]"
            ],
            "text/html": [
              "\n",
              "  <div id=\"df-74588cc1-e20a-471b-816b-c7e1b3aa9f3a\">\n",
              "    <div class=\"colab-df-container\">\n",
              "      <div>\n",
              "<style scoped>\n",
              "    .dataframe tbody tr th:only-of-type {\n",
              "        vertical-align: middle;\n",
              "    }\n",
              "\n",
              "    .dataframe tbody tr th {\n",
              "        vertical-align: top;\n",
              "    }\n",
              "\n",
              "    .dataframe thead th {\n",
              "        text-align: right;\n",
              "    }\n",
              "</style>\n",
              "<table border=\"1\" class=\"dataframe\">\n",
              "  <thead>\n",
              "    <tr style=\"text-align: right;\">\n",
              "      <th></th>\n",
              "      <th>anaemia</th>\n",
              "      <th>diabetes</th>\n",
              "      <th>high_blood_pressure</th>\n",
              "      <th>sex</th>\n",
              "      <th>smoking</th>\n",
              "      <th>age</th>\n",
              "      <th>ejection_fraction</th>\n",
              "      <th>serum_sodium</th>\n",
              "      <th>serum_sodium</th>\n",
              "      <th>time</th>\n",
              "      <th>DEATH_EVENT</th>\n",
              "    </tr>\n",
              "  </thead>\n",
              "  <tbody>\n",
              "    <tr>\n",
              "      <th>0</th>\n",
              "      <td>0</td>\n",
              "      <td>0</td>\n",
              "      <td>1</td>\n",
              "      <td>1</td>\n",
              "      <td>0</td>\n",
              "      <td>0.636364</td>\n",
              "      <td>0.090909</td>\n",
              "      <td>0.157303</td>\n",
              "      <td>0.485714</td>\n",
              "      <td>0.000000</td>\n",
              "      <td>1</td>\n",
              "    </tr>\n",
              "    <tr>\n",
              "      <th>1</th>\n",
              "      <td>0</td>\n",
              "      <td>0</td>\n",
              "      <td>0</td>\n",
              "      <td>1</td>\n",
              "      <td>0</td>\n",
              "      <td>0.272727</td>\n",
              "      <td>0.363636</td>\n",
              "      <td>0.067416</td>\n",
              "      <td>0.657143</td>\n",
              "      <td>0.007117</td>\n",
              "      <td>1</td>\n",
              "    </tr>\n",
              "    <tr>\n",
              "      <th>2</th>\n",
              "      <td>0</td>\n",
              "      <td>0</td>\n",
              "      <td>0</td>\n",
              "      <td>1</td>\n",
              "      <td>1</td>\n",
              "      <td>0.454545</td>\n",
              "      <td>0.090909</td>\n",
              "      <td>0.089888</td>\n",
              "      <td>0.457143</td>\n",
              "      <td>0.010676</td>\n",
              "      <td>1</td>\n",
              "    </tr>\n",
              "    <tr>\n",
              "      <th>3</th>\n",
              "      <td>1</td>\n",
              "      <td>0</td>\n",
              "      <td>0</td>\n",
              "      <td>1</td>\n",
              "      <td>0</td>\n",
              "      <td>0.181818</td>\n",
              "      <td>0.090909</td>\n",
              "      <td>0.157303</td>\n",
              "      <td>0.685714</td>\n",
              "      <td>0.010676</td>\n",
              "      <td>1</td>\n",
              "    </tr>\n",
              "    <tr>\n",
              "      <th>4</th>\n",
              "      <td>1</td>\n",
              "      <td>1</td>\n",
              "      <td>0</td>\n",
              "      <td>0</td>\n",
              "      <td>0</td>\n",
              "      <td>0.454545</td>\n",
              "      <td>0.090909</td>\n",
              "      <td>0.247191</td>\n",
              "      <td>0.085714</td>\n",
              "      <td>0.014235</td>\n",
              "      <td>1</td>\n",
              "    </tr>\n",
              "    <tr>\n",
              "      <th>...</th>\n",
              "      <td>...</td>\n",
              "      <td>...</td>\n",
              "      <td>...</td>\n",
              "      <td>...</td>\n",
              "      <td>...</td>\n",
              "      <td>...</td>\n",
              "      <td>...</td>\n",
              "      <td>...</td>\n",
              "      <td>...</td>\n",
              "      <td>...</td>\n",
              "      <td>...</td>\n",
              "    </tr>\n",
              "    <tr>\n",
              "      <th>294</th>\n",
              "      <td>0</td>\n",
              "      <td>1</td>\n",
              "      <td>1</td>\n",
              "      <td>1</td>\n",
              "      <td>1</td>\n",
              "      <td>0.400000</td>\n",
              "      <td>0.363636</td>\n",
              "      <td>0.067416</td>\n",
              "      <td>0.857143</td>\n",
              "      <td>0.946619</td>\n",
              "      <td>0</td>\n",
              "    </tr>\n",
              "    <tr>\n",
              "      <th>295</th>\n",
              "      <td>0</td>\n",
              "      <td>0</td>\n",
              "      <td>0</td>\n",
              "      <td>0</td>\n",
              "      <td>0</td>\n",
              "      <td>0.272727</td>\n",
              "      <td>0.363636</td>\n",
              "      <td>0.078652</td>\n",
              "      <td>0.742857</td>\n",
              "      <td>0.950178</td>\n",
              "      <td>0</td>\n",
              "    </tr>\n",
              "    <tr>\n",
              "      <th>296</th>\n",
              "      <td>0</td>\n",
              "      <td>1</td>\n",
              "      <td>0</td>\n",
              "      <td>0</td>\n",
              "      <td>0</td>\n",
              "      <td>0.090909</td>\n",
              "      <td>0.696970</td>\n",
              "      <td>0.033708</td>\n",
              "      <td>0.714286</td>\n",
              "      <td>0.975089</td>\n",
              "      <td>0</td>\n",
              "    </tr>\n",
              "    <tr>\n",
              "      <th>297</th>\n",
              "      <td>0</td>\n",
              "      <td>0</td>\n",
              "      <td>0</td>\n",
              "      <td>1</td>\n",
              "      <td>1</td>\n",
              "      <td>0.090909</td>\n",
              "      <td>0.363636</td>\n",
              "      <td>0.101124</td>\n",
              "      <td>0.771429</td>\n",
              "      <td>0.982206</td>\n",
              "      <td>0</td>\n",
              "    </tr>\n",
              "    <tr>\n",
              "      <th>298</th>\n",
              "      <td>0</td>\n",
              "      <td>0</td>\n",
              "      <td>0</td>\n",
              "      <td>1</td>\n",
              "      <td>1</td>\n",
              "      <td>0.181818</td>\n",
              "      <td>0.469697</td>\n",
              "      <td>0.123596</td>\n",
              "      <td>0.657143</td>\n",
              "      <td>1.000000</td>\n",
              "      <td>0</td>\n",
              "    </tr>\n",
              "  </tbody>\n",
              "</table>\n",
              "<p>299 rows × 11 columns</p>\n",
              "</div>\n",
              "      <button class=\"colab-df-convert\" onclick=\"convertToInteractive('df-74588cc1-e20a-471b-816b-c7e1b3aa9f3a')\"\n",
              "              title=\"Convert this dataframe to an interactive table.\"\n",
              "              style=\"display:none;\">\n",
              "        \n",
              "  <svg xmlns=\"http://www.w3.org/2000/svg\" height=\"24px\"viewBox=\"0 0 24 24\"\n",
              "       width=\"24px\">\n",
              "    <path d=\"M0 0h24v24H0V0z\" fill=\"none\"/>\n",
              "    <path d=\"M18.56 5.44l.94 2.06.94-2.06 2.06-.94-2.06-.94-.94-2.06-.94 2.06-2.06.94zm-11 1L8.5 8.5l.94-2.06 2.06-.94-2.06-.94L8.5 2.5l-.94 2.06-2.06.94zm10 10l.94 2.06.94-2.06 2.06-.94-2.06-.94-.94-2.06-.94 2.06-2.06.94z\"/><path d=\"M17.41 7.96l-1.37-1.37c-.4-.4-.92-.59-1.43-.59-.52 0-1.04.2-1.43.59L10.3 9.45l-7.72 7.72c-.78.78-.78 2.05 0 2.83L4 21.41c.39.39.9.59 1.41.59.51 0 1.02-.2 1.41-.59l7.78-7.78 2.81-2.81c.8-.78.8-2.07 0-2.86zM5.41 20L4 18.59l7.72-7.72 1.47 1.35L5.41 20z\"/>\n",
              "  </svg>\n",
              "      </button>\n",
              "      \n",
              "  <style>\n",
              "    .colab-df-container {\n",
              "      display:flex;\n",
              "      flex-wrap:wrap;\n",
              "      gap: 12px;\n",
              "    }\n",
              "\n",
              "    .colab-df-convert {\n",
              "      background-color: #E8F0FE;\n",
              "      border: none;\n",
              "      border-radius: 50%;\n",
              "      cursor: pointer;\n",
              "      display: none;\n",
              "      fill: #1967D2;\n",
              "      height: 32px;\n",
              "      padding: 0 0 0 0;\n",
              "      width: 32px;\n",
              "    }\n",
              "\n",
              "    .colab-df-convert:hover {\n",
              "      background-color: #E2EBFA;\n",
              "      box-shadow: 0px 1px 2px rgba(60, 64, 67, 0.3), 0px 1px 3px 1px rgba(60, 64, 67, 0.15);\n",
              "      fill: #174EA6;\n",
              "    }\n",
              "\n",
              "    [theme=dark] .colab-df-convert {\n",
              "      background-color: #3B4455;\n",
              "      fill: #D2E3FC;\n",
              "    }\n",
              "\n",
              "    [theme=dark] .colab-df-convert:hover {\n",
              "      background-color: #434B5C;\n",
              "      box-shadow: 0px 1px 3px 1px rgba(0, 0, 0, 0.15);\n",
              "      filter: drop-shadow(0px 1px 2px rgba(0, 0, 0, 0.3));\n",
              "      fill: #FFFFFF;\n",
              "    }\n",
              "  </style>\n",
              "\n",
              "      <script>\n",
              "        const buttonEl =\n",
              "          document.querySelector('#df-74588cc1-e20a-471b-816b-c7e1b3aa9f3a button.colab-df-convert');\n",
              "        buttonEl.style.display =\n",
              "          google.colab.kernel.accessAllowed ? 'block' : 'none';\n",
              "\n",
              "        async function convertToInteractive(key) {\n",
              "          const element = document.querySelector('#df-74588cc1-e20a-471b-816b-c7e1b3aa9f3a');\n",
              "          const dataTable =\n",
              "            await google.colab.kernel.invokeFunction('convertToInteractive',\n",
              "                                                     [key], {});\n",
              "          if (!dataTable) return;\n",
              "\n",
              "          const docLinkHtml = 'Like what you see? Visit the ' +\n",
              "            '<a target=\"_blank\" href=https://colab.research.google.com/notebooks/data_table.ipynb>data table notebook</a>'\n",
              "            + ' to learn more about interactive tables.';\n",
              "          element.innerHTML = '';\n",
              "          dataTable['output_type'] = 'display_data';\n",
              "          await google.colab.output.renderOutput(dataTable, element);\n",
              "          const docLink = document.createElement('div');\n",
              "          docLink.innerHTML = docLinkHtml;\n",
              "          element.appendChild(docLink);\n",
              "        }\n",
              "      </script>\n",
              "    </div>\n",
              "  </div>\n",
              "  "
            ]
          },
          "metadata": {},
          "execution_count": 19
        }
      ]
    },
    {
      "cell_type": "code",
      "source": [
        "scaled_data.isnull(). values. any()"
      ],
      "metadata": {
        "colab": {
          "base_uri": "https://localhost:8080/"
        },
        "id": "IntHlqnc-iMs",
        "outputId": "816083a0-92ca-4b6b-f4ef-aaae157d506a"
      },
      "execution_count": null,
      "outputs": [
        {
          "output_type": "execute_result",
          "data": {
            "text/plain": [
              "False"
            ]
          },
          "metadata": {},
          "execution_count": 20
        }
      ]
    },
    {
      "cell_type": "markdown",
      "source": [
        "***split data to target and features***"
      ],
      "metadata": {
        "id": "tzqrYOonhx0p"
      }
    },
    {
      "cell_type": "code",
      "source": [
        "y=scaled_data.iloc[:,-1]\n",
        "y"
      ],
      "metadata": {
        "colab": {
          "base_uri": "https://localhost:8080/"
        },
        "id": "kh4hiumgFgZY",
        "outputId": "584414cc-c842-4dae-904d-45d653a89cf5"
      },
      "execution_count": null,
      "outputs": [
        {
          "output_type": "execute_result",
          "data": {
            "text/plain": [
              "0      1\n",
              "1      1\n",
              "2      1\n",
              "3      1\n",
              "4      1\n",
              "      ..\n",
              "294    0\n",
              "295    0\n",
              "296    0\n",
              "297    0\n",
              "298    0\n",
              "Name: DEATH_EVENT, Length: 299, dtype: int64"
            ]
          },
          "metadata": {},
          "execution_count": 21
        }
      ]
    },
    {
      "cell_type": "code",
      "source": [
        "x=scaled_data.iloc[:,:12]\n",
        "x"
      ],
      "metadata": {
        "colab": {
          "base_uri": "https://localhost:8080/",
          "height": 424
        },
        "id": "dB24dhQnFjUN",
        "outputId": "2815a592-801a-4ea5-d587-c06005803a4f"
      },
      "execution_count": null,
      "outputs": [
        {
          "output_type": "execute_result",
          "data": {
            "text/plain": [
              "     anaemia  diabetes  high_blood_pressure  sex  smoking       age  \\\n",
              "0          0         0                    1    1        0  0.636364   \n",
              "1          0         0                    0    1        0  0.272727   \n",
              "2          0         0                    0    1        1  0.454545   \n",
              "3          1         0                    0    1        0  0.181818   \n",
              "4          1         1                    0    0        0  0.454545   \n",
              "..       ...       ...                  ...  ...      ...       ...   \n",
              "294        0         1                    1    1        1  0.400000   \n",
              "295        0         0                    0    0        0  0.272727   \n",
              "296        0         1                    0    0        0  0.090909   \n",
              "297        0         0                    0    1        1  0.090909   \n",
              "298        0         0                    0    1        1  0.181818   \n",
              "\n",
              "     ejection_fraction  serum_sodium  serum_sodium      time  DEATH_EVENT  \n",
              "0             0.090909      0.157303      0.485714  0.000000            1  \n",
              "1             0.363636      0.067416      0.657143  0.007117            1  \n",
              "2             0.090909      0.089888      0.457143  0.010676            1  \n",
              "3             0.090909      0.157303      0.685714  0.010676            1  \n",
              "4             0.090909      0.247191      0.085714  0.014235            1  \n",
              "..                 ...           ...           ...       ...          ...  \n",
              "294           0.363636      0.067416      0.857143  0.946619            0  \n",
              "295           0.363636      0.078652      0.742857  0.950178            0  \n",
              "296           0.696970      0.033708      0.714286  0.975089            0  \n",
              "297           0.363636      0.101124      0.771429  0.982206            0  \n",
              "298           0.469697      0.123596      0.657143  1.000000            0  \n",
              "\n",
              "[299 rows x 11 columns]"
            ],
            "text/html": [
              "\n",
              "  <div id=\"df-5cd498b0-654a-4e60-8f07-12b614775e7b\">\n",
              "    <div class=\"colab-df-container\">\n",
              "      <div>\n",
              "<style scoped>\n",
              "    .dataframe tbody tr th:only-of-type {\n",
              "        vertical-align: middle;\n",
              "    }\n",
              "\n",
              "    .dataframe tbody tr th {\n",
              "        vertical-align: top;\n",
              "    }\n",
              "\n",
              "    .dataframe thead th {\n",
              "        text-align: right;\n",
              "    }\n",
              "</style>\n",
              "<table border=\"1\" class=\"dataframe\">\n",
              "  <thead>\n",
              "    <tr style=\"text-align: right;\">\n",
              "      <th></th>\n",
              "      <th>anaemia</th>\n",
              "      <th>diabetes</th>\n",
              "      <th>high_blood_pressure</th>\n",
              "      <th>sex</th>\n",
              "      <th>smoking</th>\n",
              "      <th>age</th>\n",
              "      <th>ejection_fraction</th>\n",
              "      <th>serum_sodium</th>\n",
              "      <th>serum_sodium</th>\n",
              "      <th>time</th>\n",
              "      <th>DEATH_EVENT</th>\n",
              "    </tr>\n",
              "  </thead>\n",
              "  <tbody>\n",
              "    <tr>\n",
              "      <th>0</th>\n",
              "      <td>0</td>\n",
              "      <td>0</td>\n",
              "      <td>1</td>\n",
              "      <td>1</td>\n",
              "      <td>0</td>\n",
              "      <td>0.636364</td>\n",
              "      <td>0.090909</td>\n",
              "      <td>0.157303</td>\n",
              "      <td>0.485714</td>\n",
              "      <td>0.000000</td>\n",
              "      <td>1</td>\n",
              "    </tr>\n",
              "    <tr>\n",
              "      <th>1</th>\n",
              "      <td>0</td>\n",
              "      <td>0</td>\n",
              "      <td>0</td>\n",
              "      <td>1</td>\n",
              "      <td>0</td>\n",
              "      <td>0.272727</td>\n",
              "      <td>0.363636</td>\n",
              "      <td>0.067416</td>\n",
              "      <td>0.657143</td>\n",
              "      <td>0.007117</td>\n",
              "      <td>1</td>\n",
              "    </tr>\n",
              "    <tr>\n",
              "      <th>2</th>\n",
              "      <td>0</td>\n",
              "      <td>0</td>\n",
              "      <td>0</td>\n",
              "      <td>1</td>\n",
              "      <td>1</td>\n",
              "      <td>0.454545</td>\n",
              "      <td>0.090909</td>\n",
              "      <td>0.089888</td>\n",
              "      <td>0.457143</td>\n",
              "      <td>0.010676</td>\n",
              "      <td>1</td>\n",
              "    </tr>\n",
              "    <tr>\n",
              "      <th>3</th>\n",
              "      <td>1</td>\n",
              "      <td>0</td>\n",
              "      <td>0</td>\n",
              "      <td>1</td>\n",
              "      <td>0</td>\n",
              "      <td>0.181818</td>\n",
              "      <td>0.090909</td>\n",
              "      <td>0.157303</td>\n",
              "      <td>0.685714</td>\n",
              "      <td>0.010676</td>\n",
              "      <td>1</td>\n",
              "    </tr>\n",
              "    <tr>\n",
              "      <th>4</th>\n",
              "      <td>1</td>\n",
              "      <td>1</td>\n",
              "      <td>0</td>\n",
              "      <td>0</td>\n",
              "      <td>0</td>\n",
              "      <td>0.454545</td>\n",
              "      <td>0.090909</td>\n",
              "      <td>0.247191</td>\n",
              "      <td>0.085714</td>\n",
              "      <td>0.014235</td>\n",
              "      <td>1</td>\n",
              "    </tr>\n",
              "    <tr>\n",
              "      <th>...</th>\n",
              "      <td>...</td>\n",
              "      <td>...</td>\n",
              "      <td>...</td>\n",
              "      <td>...</td>\n",
              "      <td>...</td>\n",
              "      <td>...</td>\n",
              "      <td>...</td>\n",
              "      <td>...</td>\n",
              "      <td>...</td>\n",
              "      <td>...</td>\n",
              "      <td>...</td>\n",
              "    </tr>\n",
              "    <tr>\n",
              "      <th>294</th>\n",
              "      <td>0</td>\n",
              "      <td>1</td>\n",
              "      <td>1</td>\n",
              "      <td>1</td>\n",
              "      <td>1</td>\n",
              "      <td>0.400000</td>\n",
              "      <td>0.363636</td>\n",
              "      <td>0.067416</td>\n",
              "      <td>0.857143</td>\n",
              "      <td>0.946619</td>\n",
              "      <td>0</td>\n",
              "    </tr>\n",
              "    <tr>\n",
              "      <th>295</th>\n",
              "      <td>0</td>\n",
              "      <td>0</td>\n",
              "      <td>0</td>\n",
              "      <td>0</td>\n",
              "      <td>0</td>\n",
              "      <td>0.272727</td>\n",
              "      <td>0.363636</td>\n",
              "      <td>0.078652</td>\n",
              "      <td>0.742857</td>\n",
              "      <td>0.950178</td>\n",
              "      <td>0</td>\n",
              "    </tr>\n",
              "    <tr>\n",
              "      <th>296</th>\n",
              "      <td>0</td>\n",
              "      <td>1</td>\n",
              "      <td>0</td>\n",
              "      <td>0</td>\n",
              "      <td>0</td>\n",
              "      <td>0.090909</td>\n",
              "      <td>0.696970</td>\n",
              "      <td>0.033708</td>\n",
              "      <td>0.714286</td>\n",
              "      <td>0.975089</td>\n",
              "      <td>0</td>\n",
              "    </tr>\n",
              "    <tr>\n",
              "      <th>297</th>\n",
              "      <td>0</td>\n",
              "      <td>0</td>\n",
              "      <td>0</td>\n",
              "      <td>1</td>\n",
              "      <td>1</td>\n",
              "      <td>0.090909</td>\n",
              "      <td>0.363636</td>\n",
              "      <td>0.101124</td>\n",
              "      <td>0.771429</td>\n",
              "      <td>0.982206</td>\n",
              "      <td>0</td>\n",
              "    </tr>\n",
              "    <tr>\n",
              "      <th>298</th>\n",
              "      <td>0</td>\n",
              "      <td>0</td>\n",
              "      <td>0</td>\n",
              "      <td>1</td>\n",
              "      <td>1</td>\n",
              "      <td>0.181818</td>\n",
              "      <td>0.469697</td>\n",
              "      <td>0.123596</td>\n",
              "      <td>0.657143</td>\n",
              "      <td>1.000000</td>\n",
              "      <td>0</td>\n",
              "    </tr>\n",
              "  </tbody>\n",
              "</table>\n",
              "<p>299 rows × 11 columns</p>\n",
              "</div>\n",
              "      <button class=\"colab-df-convert\" onclick=\"convertToInteractive('df-5cd498b0-654a-4e60-8f07-12b614775e7b')\"\n",
              "              title=\"Convert this dataframe to an interactive table.\"\n",
              "              style=\"display:none;\">\n",
              "        \n",
              "  <svg xmlns=\"http://www.w3.org/2000/svg\" height=\"24px\"viewBox=\"0 0 24 24\"\n",
              "       width=\"24px\">\n",
              "    <path d=\"M0 0h24v24H0V0z\" fill=\"none\"/>\n",
              "    <path d=\"M18.56 5.44l.94 2.06.94-2.06 2.06-.94-2.06-.94-.94-2.06-.94 2.06-2.06.94zm-11 1L8.5 8.5l.94-2.06 2.06-.94-2.06-.94L8.5 2.5l-.94 2.06-2.06.94zm10 10l.94 2.06.94-2.06 2.06-.94-2.06-.94-.94-2.06-.94 2.06-2.06.94z\"/><path d=\"M17.41 7.96l-1.37-1.37c-.4-.4-.92-.59-1.43-.59-.52 0-1.04.2-1.43.59L10.3 9.45l-7.72 7.72c-.78.78-.78 2.05 0 2.83L4 21.41c.39.39.9.59 1.41.59.51 0 1.02-.2 1.41-.59l7.78-7.78 2.81-2.81c.8-.78.8-2.07 0-2.86zM5.41 20L4 18.59l7.72-7.72 1.47 1.35L5.41 20z\"/>\n",
              "  </svg>\n",
              "      </button>\n",
              "      \n",
              "  <style>\n",
              "    .colab-df-container {\n",
              "      display:flex;\n",
              "      flex-wrap:wrap;\n",
              "      gap: 12px;\n",
              "    }\n",
              "\n",
              "    .colab-df-convert {\n",
              "      background-color: #E8F0FE;\n",
              "      border: none;\n",
              "      border-radius: 50%;\n",
              "      cursor: pointer;\n",
              "      display: none;\n",
              "      fill: #1967D2;\n",
              "      height: 32px;\n",
              "      padding: 0 0 0 0;\n",
              "      width: 32px;\n",
              "    }\n",
              "\n",
              "    .colab-df-convert:hover {\n",
              "      background-color: #E2EBFA;\n",
              "      box-shadow: 0px 1px 2px rgba(60, 64, 67, 0.3), 0px 1px 3px 1px rgba(60, 64, 67, 0.15);\n",
              "      fill: #174EA6;\n",
              "    }\n",
              "\n",
              "    [theme=dark] .colab-df-convert {\n",
              "      background-color: #3B4455;\n",
              "      fill: #D2E3FC;\n",
              "    }\n",
              "\n",
              "    [theme=dark] .colab-df-convert:hover {\n",
              "      background-color: #434B5C;\n",
              "      box-shadow: 0px 1px 3px 1px rgba(0, 0, 0, 0.15);\n",
              "      filter: drop-shadow(0px 1px 2px rgba(0, 0, 0, 0.3));\n",
              "      fill: #FFFFFF;\n",
              "    }\n",
              "  </style>\n",
              "\n",
              "      <script>\n",
              "        const buttonEl =\n",
              "          document.querySelector('#df-5cd498b0-654a-4e60-8f07-12b614775e7b button.colab-df-convert');\n",
              "        buttonEl.style.display =\n",
              "          google.colab.kernel.accessAllowed ? 'block' : 'none';\n",
              "\n",
              "        async function convertToInteractive(key) {\n",
              "          const element = document.querySelector('#df-5cd498b0-654a-4e60-8f07-12b614775e7b');\n",
              "          const dataTable =\n",
              "            await google.colab.kernel.invokeFunction('convertToInteractive',\n",
              "                                                     [key], {});\n",
              "          if (!dataTable) return;\n",
              "\n",
              "          const docLinkHtml = 'Like what you see? Visit the ' +\n",
              "            '<a target=\"_blank\" href=https://colab.research.google.com/notebooks/data_table.ipynb>data table notebook</a>'\n",
              "            + ' to learn more about interactive tables.';\n",
              "          element.innerHTML = '';\n",
              "          dataTable['output_type'] = 'display_data';\n",
              "          await google.colab.output.renderOutput(dataTable, element);\n",
              "          const docLink = document.createElement('div');\n",
              "          docLink.innerHTML = docLinkHtml;\n",
              "          element.appendChild(docLink);\n",
              "        }\n",
              "      </script>\n",
              "    </div>\n",
              "  </div>\n",
              "  "
            ]
          },
          "metadata": {},
          "execution_count": 22
        }
      ]
    },
    {
      "cell_type": "code",
      "source": [
        "import seaborn as sns\n",
        "import matplotlib.pyplot as plt\n",
        "plt.figure(figsize=(15,10))\n",
        "for i,col in enumerate(x.columns,1):\n",
        "    plt.subplot(4,3,i)\n",
        "    plt.title(f\"Distribution of {col} Data\")\n",
        "    sns.histplot(x[col],kde=True)\n",
        "    plt.tight_layout()\n",
        "    plt.plot()"
      ],
      "metadata": {
        "colab": {
          "base_uri": "https://localhost:8080/",
          "height": 729
        },
        "id": "GdPlh16znYCf",
        "outputId": "6787cf70-c07a-4df6-a930-54ff43baf182"
      },
      "execution_count": null,
      "outputs": [
        {
          "output_type": "display_data",
          "data": {
            "text/plain": [
              "<Figure size 1080x720 with 11 Axes>"
            ],
            "image/png": "[encoded data removed]"
          },
          "metadata": {
            "needs_background": "light"
          }
        }
      ]
    },
    {
      "cell_type": "code",
      "source": [
        "pca = PCA(2)\n",
        "df = pca.fit_transform(x)\n",
        "df.shape"
      ],
      "metadata": {
        "colab": {
          "base_uri": "https://localhost:8080/"
        },
        "id": "aSeTLbKnjExl",
        "outputId": "8855ee73-c662-45bf-b474-3fdc9c77a8af"
      },
      "execution_count": null,
      "outputs": [
        {
          "output_type": "execute_result",
          "data": {
            "text/plain": [
              "(299, 2)"
            ]
          },
          "metadata": {},
          "execution_count": 24
        }
      ]
    },
    {
      "cell_type": "code",
      "source": [
        "x_train,x_test,y_train,y_test = train_test_split( x, y, test_size=0.2)"
      ],
      "metadata": {
        "id": "-CGoAqG3FzQr"
      },
      "execution_count": null,
      "outputs": []
    },
    {
      "cell_type": "markdown",
      "source": [
        "***apply elbow method to get the best num of clusters***"
      ],
      "metadata": {
        "id": "bhcpFv1Bh5ea"
      }
    },
    {
      "cell_type": "code",
      "source": [
        "import matplotlib.pyplot as plt\n",
        "loss = []\n",
        "for i in range(1, 11):\n",
        "    kmeans = KMeans(n_clusters = i, init = 'k-means++', max_iter = 300, n_init = 10, random_state = 0)\n",
        "    kmeans.fit(x)\n",
        "    loss.append(kmeans.inertia_)\n",
        "plt.plot(range(1, 11), loss)\n",
        "plt.title('The Elbow Method')\n",
        "plt.xlabel('Number of clusters')\n",
        "plt.ylabel('loss')\n",
        "plt.show()"
      ],
      "metadata": {
        "id": "RJkRlCBpao9l",
        "colab": {
          "base_uri": "https://localhost:8080/",
          "height": 295
        },
        "outputId": "a367fb45-492e-4f62-e0d3-ce312402f28b"
      },
      "execution_count": null,
      "outputs": [
        {
          "output_type": "display_data",
          "data": {
            "text/plain": [
              "<Figure size 432x288 with 1 Axes>"
            ],
            "image/png": "[encoded data removed]"
          },
          "metadata": {
            "needs_background": "light"
          }
        }
      ]
    },
    {
      "cell_type": "markdown",
      "source": [
        "***train the model***"
      ],
      "metadata": {
        "id": "KkGRi-o0iC17"
      }
    },
    {
      "cell_type": "code",
      "source": [
        "#kmeans = KMeans(n_clusters=2,random_state=45)\n",
        "\n",
        "#kmeans.fit(x)\n",
        "\n",
        "# check how many of the samples were correctly labeled\n",
        "#labels = kmeans.labels_\n",
        "\n"
      ],
      "metadata": {
        "id": "yh3ld2hZOcCx"
      },
      "execution_count": null,
      "outputs": []
    },
    {
      "cell_type": "code",
      "source": [
        "#Import required module\n",
        "from sklearn.cluster import KMeans\n",
        " \n",
        "#Initialize the class object\n",
        "kmeans = KMeans(n_clusters= 2)\n",
        " \n",
        "#predict the labels of clusters.\n",
        "label = kmeans.fit_predict(df)\n",
        " \n",
        "print(label)\n",
        "correct_labels = sum(y == label)\n",
        "print(\"Result: %d out of %d samples were correctly labeled.\" % (correct_labels, y.size))\n",
        "k_acc=correct_labels/float(y.size)*100\n",
        "k_acc"
      ],
      "metadata": {
        "colab": {
          "base_uri": "https://localhost:8080/"
        },
        "id": "a4vGMn9QU2WA",
        "outputId": "1eb8ab09-1a54-4bfa-e5ab-40fe99251908"
      },
      "execution_count": null,
      "outputs": [
        {
          "output_type": "stream",
          "name": "stdout",
          "text": [
            "[0 0 0 0 1 0 0 0 1 0 0 0 0 0 1 0 0 0 1 1 1 1 0 1 1 0 1 0 0 0 1 0 1 1 1 1 1\n",
            " 1 1 1 0 1 0 1 1 0 0 0 0 1 0 1 1 1 1 0 0 0 0 0 1 1 0 0 1 0 1 0 1 1 0 0 0 0\n",
            " 0 0 0 1 0 1 1 0 1 0 1 0 0 1 1 0 0 1 1 0 1 0 1 1 1 1 0 0 0 0 1 0 0 1 0 0 0\n",
            " 0 1 1 1 1 1 1 1 1 0 1 1 1 0 1 1 1 0 1 0 1 1 0 0 0 1 0 1 0 0 1 1 1 0 0 0 0\n",
            " 0 0 1 1 0 0 1 1 1 0 0 0 0 0 0 1 1 1 0 1 1 1 0 0 0 0 0 0 0 1 1 0 1 0 0 0 0\n",
            " 1 1 1 1 1 1 1 1 0 0 0 1 1 1 0 0 1 0 0 0 1 1 0 1 1 0 0 0 1 0 0 1 1 1 1 0 0\n",
            " 0 0 1 1 0 0 1 1 1 0 0 0 0 0 0 0 1 0 1 0 0 1 1 1 0 0 0 1 1 1 0 1 0 0 1 1 1\n",
            " 0 0 1 1 1 1 0 0 1 1 1 0 1 1 0 0 1 1 1 1 1 1 0 0 0 0 1 0 1 1 1 1 0 0 0 0 1\n",
            " 1 0 0]\n",
            "Result: 144 out of 299 samples were correctly labeled.\n"
          ]
        },
        {
          "output_type": "execute_result",
          "data": {
            "text/plain": [
              "48.16053511705686"
            ]
          },
          "metadata": {},
          "execution_count": 28
        }
      ]
    },
    {
      "cell_type": "code",
      "source": [
        "#Getting unique labels\n",
        " \n",
        "u_labels = np.unique(label)\n",
        " \n",
        "#plotting the results:\n",
        " \n",
        "for i in u_labels:\n",
        "    plt.scatter(df[label == i , 0] , df[label == i , 1] , label = i)\n",
        "plt.legend()\n",
        "plt.show()"
      ],
      "metadata": {
        "id": "h_a-u59sM4EO",
        "colab": {
          "base_uri": "https://localhost:8080/",
          "height": 266
        },
        "outputId": "ea9f6e61-1503-467b-f987-944cbb99fcec"
      },
      "execution_count": null,
      "outputs": [
        {
          "output_type": "display_data",
          "data": {
            "text/plain": [
              "<Figure size 432x288 with 1 Axes>"
            ],
            "image/png": "[encoded data removed]"
          },
          "metadata": {
            "needs_background": "light"
          }
        }
      ]
    },
    {
      "cell_type": "code",
      "source": [
        "#Getting the Centroids\n",
        "centroids = kmeans.cluster_centers_\n",
        "u_labels = np.unique(label)\n",
        " \n",
        "#plotting the results:\n",
        " \n",
        "for i in u_labels:\n",
        "    plt.scatter(df[label == i , 0] , df[label == i , 1] , label = i)\n",
        "plt.scatter(centroids[:,0] , centroids[:,1] , s = 80)\n",
        "plt.legend()\n",
        "plt.show()"
      ],
      "metadata": {
        "colab": {
          "base_uri": "https://localhost:8080/",
          "height": 266
        },
        "id": "YEmsAYLcWfnJ",
        "outputId": "f5e51402-08f9-4b9c-8763-f047038bad74"
      },
      "execution_count": null,
      "outputs": [
        {
          "output_type": "display_data",
          "data": {
            "text/plain": [
              "<Figure size 432x288 with 1 Axes>"
            ],
            "image/png": "[encoded data removed]"
          },
          "metadata": {
            "needs_background": "light"
          }
        }
      ]
    },
    {
      "cell_type": "code",
      "source": [
        "kmeans.cluster_centers_"
      ],
      "metadata": {
        "colab": {
          "base_uri": "https://localhost:8080/"
        },
        "id": "8XZTDD9wc2Ta",
        "outputId": "152b7023-90d1-4e89-bb70-0b253f3c31e1"
      },
      "execution_count": null,
      "outputs": [
        {
          "output_type": "execute_result",
          "data": {
            "text/plain": [
              "array([[-0.47993832,  0.15257963],\n",
              "       [ 0.5097276 , -0.16205009]])"
            ]
          },
          "metadata": {},
          "execution_count": 31
        }
      ]
    },
    {
      "cell_type": "code",
      "source": [
        "import pandas as pd\n",
        "label=pd.DataFrame(label)\n",
        "label.columns=[\"labels\"]\n",
        "label.value_counts()"
      ],
      "metadata": {
        "colab": {
          "base_uri": "https://localhost:8080/"
        },
        "id": "3SQB1kE3lx3x",
        "outputId": "94cb8676-ba3c-4774-bcd7-dccbe4b5a33b"
      },
      "execution_count": null,
      "outputs": [
        {
          "output_type": "execute_result",
          "data": {
            "text/plain": [
              "labels\n",
              "0         154\n",
              "1         145\n",
              "dtype: int64"
            ]
          },
          "metadata": {},
          "execution_count": 32
        }
      ]
    },
    {
      "cell_type": "code",
      "source": [
        "import seaborn as sns \n",
        "sns.countplot(data=label,x=\"labels\").set(title='Number of samples belongs to each cluster in K-Means ')\n",
        "plt.show()"
      ],
      "metadata": {
        "colab": {
          "base_uri": "https://localhost:8080/",
          "height": 295
        },
        "id": "bP4ZZ0LTh2hs",
        "outputId": "79b48dea-430d-4cc9-bd96-db41490e0cf7"
      },
      "execution_count": null,
      "outputs": [
        {
          "output_type": "display_data",
          "data": {
            "text/plain": [
              "<Figure size 432x288 with 1 Axes>"
            ],
            "image/png": "[encoded data removed]"
          },
          "metadata": {
            "needs_background": "light"
          }
        }
      ]
    },
    {
      "cell_type": "markdown",
      "source": [
        "***Apply fuzzy c mean clustring***"
      ],
      "metadata": {
        "id": "f3omTG9XiKQC"
      }
    },
    {
      "cell_type": "code",
      "source": [
        "import numpy as np\n",
        "m = FCM(n_clusters=2,m=1.7,maxiter=100,random_state=45)\n",
        "xm=np.array(x)\n",
        "m.fit(xm)\n",
        "y_pred=m.soft_predict(xm)\n",
        "y_pred\n",
        "# check how many of the samples were correctly labeled\n"
      ],
      "metadata": {
        "id": "M2_I7ufgQI97",
        "colab": {
          "base_uri": "https://localhost:8080/"
        },
        "outputId": "24473c6f-a49a-4b5b-9c25-e927936e5ed6"
      },
      "execution_count": null,
      "outputs": [
        {
          "output_type": "execute_result",
          "data": {
            "text/plain": [
              "array([[0.47697726, 0.52302274],\n",
              "       [0.42428198, 0.57571802],\n",
              "       [0.33944104, 0.66055896],\n",
              "       [0.4918705 , 0.5081295 ],\n",
              "       [0.63234575, 0.36765425],\n",
              "       [0.44379457, 0.55620543],\n",
              "       [0.49116988, 0.50883012],\n",
              "       [0.4662128 , 0.5337872 ],\n",
              "       [0.55595655, 0.44404345],\n",
              "       [0.45526246, 0.54473754],\n",
              "       [0.44082398, 0.55917602],\n",
              "       [0.38666988, 0.61333012],\n",
              "       [0.49255212, 0.50744788],\n",
              "       [0.53022839, 0.46977161],\n",
              "       [0.63017458, 0.36982542],\n",
              "       [0.49406887, 0.50593113],\n",
              "       [0.4930135 , 0.5069865 ],\n",
              "       [0.43356788, 0.56643212],\n",
              "       [0.61912463, 0.38087537],\n",
              "       [0.64286359, 0.35713641],\n",
              "       [0.63161453, 0.36838547],\n",
              "       [0.66979793, 0.33020207],\n",
              "       [0.43548012, 0.56451988],\n",
              "       [0.50004834, 0.49995166],\n",
              "       [0.63322653, 0.36677347],\n",
              "       [0.41422219, 0.58577781],\n",
              "       [0.60617498, 0.39382502],\n",
              "       [0.45155757, 0.54844243],\n",
              "       [0.49371563, 0.50628437],\n",
              "       [0.41376335, 0.58623665],\n",
              "       [0.54033615, 0.45966385],\n",
              "       [0.43244641, 0.56755359],\n",
              "       [0.66603737, 0.33396263],\n",
              "       [0.68132066, 0.31867934],\n",
              "       [0.54857959, 0.45142041],\n",
              "       [0.51306542, 0.48693458],\n",
              "       [0.56076369, 0.43923631],\n",
              "       [0.65796983, 0.34203017],\n",
              "       [0.49588019, 0.50411981],\n",
              "       [0.62322278, 0.37677722],\n",
              "       [0.38598814, 0.61401186],\n",
              "       [0.54024304, 0.45975696],\n",
              "       [0.45110063, 0.54889937],\n",
              "       [0.54295039, 0.45704961],\n",
              "       [0.65810011, 0.34189989],\n",
              "       [0.40753433, 0.59246567],\n",
              "       [0.47471913, 0.52528087],\n",
              "       [0.44940021, 0.55059979],\n",
              "       [0.52531058, 0.47468942],\n",
              "       [0.60929404, 0.39070596],\n",
              "       [0.52914013, 0.47085987],\n",
              "       [0.62125227, 0.37874773],\n",
              "       [0.59987382, 0.40012618],\n",
              "       [0.67154102, 0.32845898],\n",
              "       [0.55750972, 0.44249028],\n",
              "       [0.49198098, 0.50801902],\n",
              "       [0.34259562, 0.65740438],\n",
              "       [0.33848849, 0.66151151],\n",
              "       [0.38344318, 0.61655682],\n",
              "       [0.44927575, 0.55072425],\n",
              "       [0.54587176, 0.45412824],\n",
              "       [0.58548612, 0.41451388],\n",
              "       [0.25271864, 0.74728136],\n",
              "       [0.42223034, 0.57776966],\n",
              "       [0.54751742, 0.45248258],\n",
              "       [0.33119361, 0.66880639],\n",
              "       [0.65186761, 0.34813239],\n",
              "       [0.38594099, 0.61405901],\n",
              "       [0.55779335, 0.44220665],\n",
              "       [0.51183022, 0.48816978],\n",
              "       [0.27109115, 0.72890885],\n",
              "       [0.35955957, 0.64044043],\n",
              "       [0.33363159, 0.66636841],\n",
              "       [0.36331613, 0.63668387],\n",
              "       [0.32217731, 0.67782269],\n",
              "       [0.38438426, 0.61561574],\n",
              "       [0.47308224, 0.52691776],\n",
              "       [0.49588729, 0.50411271],\n",
              "       [0.48073258, 0.51926742],\n",
              "       [0.59274489, 0.40725511],\n",
              "       [0.55981939, 0.44018061],\n",
              "       [0.25394574, 0.74605426],\n",
              "       [0.66623584, 0.33376416],\n",
              "       [0.52042713, 0.47957287],\n",
              "       [0.67454051, 0.32545949],\n",
              "       [0.36329265, 0.63670735],\n",
              "       [0.44282283, 0.55717717],\n",
              "       [0.59980575, 0.40019425],\n",
              "       [0.54288316, 0.45711684],\n",
              "       [0.5188201 , 0.4811799 ],\n",
              "       [0.36190534, 0.63809466],\n",
              "       [0.49558164, 0.50441836],\n",
              "       [0.55439458, 0.44560542],\n",
              "       [0.48871761, 0.51128239],\n",
              "       [0.65969215, 0.34030785],\n",
              "       [0.52196935, 0.47803065],\n",
              "       [0.60198585, 0.39801415],\n",
              "       [0.61848828, 0.38151172],\n",
              "       [0.6971382 , 0.3028618 ],\n",
              "       [0.69748831, 0.30251169],\n",
              "       [0.46159784, 0.53840216],\n",
              "       [0.4457767 , 0.5542233 ],\n",
              "       [0.27399248, 0.72600752],\n",
              "       [0.26558183, 0.73441817],\n",
              "       [0.59143486, 0.40856514],\n",
              "       [0.52706327, 0.47293673],\n",
              "       [0.35233592, 0.64766408],\n",
              "       [0.57163703, 0.42836297],\n",
              "       [0.24408251, 0.75591749],\n",
              "       [0.36600556, 0.63399444],\n",
              "       [0.34214788, 0.65785212],\n",
              "       [0.24389819, 0.75610181],\n",
              "       [0.49292964, 0.50707036],\n",
              "       [0.60888114, 0.39111886],\n",
              "       [0.60095066, 0.39904934],\n",
              "       [0.62809525, 0.37190475],\n",
              "       [0.69298664, 0.30701336],\n",
              "       [0.6043412 , 0.3956588 ],\n",
              "       [0.69178206, 0.30821794],\n",
              "       [0.55520922, 0.44479078],\n",
              "       [0.40713035, 0.59286965],\n",
              "       [0.70192795, 0.29807205],\n",
              "       [0.64908315, 0.35091685],\n",
              "       [0.63922149, 0.36077851],\n",
              "       [0.41525958, 0.58474042],\n",
              "       [0.6186472 , 0.3813528 ],\n",
              "       [0.62662562, 0.37337438],\n",
              "       [0.68856315, 0.31143685],\n",
              "       [0.32897873, 0.67102127],\n",
              "       [0.56973447, 0.43026553],\n",
              "       [0.40771233, 0.59228767],\n",
              "       [0.5625221 , 0.4374779 ],\n",
              "       [0.59124562, 0.40875438],\n",
              "       [0.3455632 , 0.6544368 ],\n",
              "       [0.26150172, 0.73849828],\n",
              "       [0.35474777, 0.64525223],\n",
              "       [0.68837411, 0.31162589],\n",
              "       [0.46177585, 0.53822415],\n",
              "       [0.65048655, 0.34951345],\n",
              "       [0.44209149, 0.55790851],\n",
              "       [0.41666492, 0.58333508],\n",
              "       [0.62156887, 0.37843113],\n",
              "       [0.64307413, 0.35692587],\n",
              "       [0.64534422, 0.35465578],\n",
              "       [0.43013799, 0.56986201],\n",
              "       [0.25033465, 0.74966535],\n",
              "       [0.24536902, 0.75463098],\n",
              "       [0.36405573, 0.63594427],\n",
              "       [0.48827095, 0.51172905],\n",
              "       [0.43954072, 0.56045928],\n",
              "       [0.58725099, 0.41274901],\n",
              "       [0.54412198, 0.45587802],\n",
              "       [0.33331853, 0.66668147],\n",
              "       [0.35706227, 0.64293773],\n",
              "       [0.64553381, 0.35446619],\n",
              "       [0.57254719, 0.42745281],\n",
              "       [0.62688622, 0.37311378],\n",
              "       [0.250064  , 0.749936  ],\n",
              "       [0.46782039, 0.53217961],\n",
              "       [0.39907275, 0.60092725],\n",
              "       [0.52073014, 0.47926986],\n",
              "       [0.33751649, 0.66248351],\n",
              "       [0.32762358, 0.67237642],\n",
              "       [0.669386  , 0.330614  ],\n",
              "       [0.51083575, 0.48916425],\n",
              "       [0.6384997 , 0.3615003 ],\n",
              "       [0.26406643, 0.73593357],\n",
              "       [0.50965323, 0.49034677],\n",
              "       [0.65000441, 0.34999559],\n",
              "       [0.59120401, 0.40879599],\n",
              "       [0.43020726, 0.56979274],\n",
              "       [0.24368406, 0.75631594],\n",
              "       [0.40920109, 0.59079891],\n",
              "       [0.46043848, 0.53956152],\n",
              "       [0.4181138 , 0.5818862 ],\n",
              "       [0.34145996, 0.65854004],\n",
              "       [0.2414117 , 0.7585883 ],\n",
              "       [0.62201077, 0.37798923],\n",
              "       [0.56904121, 0.43095879],\n",
              "       [0.24153397, 0.75846603],\n",
              "       [0.49206405, 0.50793595],\n",
              "       [0.45558067, 0.54441933],\n",
              "       [0.39804298, 0.60195702],\n",
              "       [0.47071246, 0.52928754],\n",
              "       [0.37855142, 0.62144858],\n",
              "       [0.57149201, 0.42850799],\n",
              "       [0.55917775, 0.44082225],\n",
              "       [0.62365736, 0.37634264],\n",
              "       [0.70076678, 0.29923322],\n",
              "       [0.58410763, 0.41589237],\n",
              "       [0.49106065, 0.50893935],\n",
              "       [0.61825083, 0.38174917],\n",
              "       [0.56972565, 0.43027435],\n",
              "       [0.4318576 , 0.5681424 ],\n",
              "       [0.47056383, 0.52943617],\n",
              "       [0.48849818, 0.51150182],\n",
              "       [0.6523821 , 0.3476179 ],\n",
              "       [0.55490738, 0.44509262],\n",
              "       [0.68576427, 0.31423573],\n",
              "       [0.38973204, 0.61026796],\n",
              "       [0.45968076, 0.54031924],\n",
              "       [0.53947724, 0.46052276],\n",
              "       [0.447657  , 0.552343  ],\n",
              "       [0.33741752, 0.66258248],\n",
              "       [0.34099252, 0.65900748],\n",
              "       [0.68918379, 0.31081621],\n",
              "       [0.61119741, 0.38880259],\n",
              "       [0.37203188, 0.62796812],\n",
              "       [0.6923679 , 0.3076321 ],\n",
              "       [0.65136643, 0.34863357],\n",
              "       [0.42262325, 0.57737675],\n",
              "       [0.34868626, 0.65131374],\n",
              "       [0.26625246, 0.73374754],\n",
              "       [0.66859986, 0.33140014],\n",
              "       [0.51713921, 0.48286079],\n",
              "       [0.44150117, 0.55849883],\n",
              "       [0.58641991, 0.41358009],\n",
              "       [0.58878708, 0.41121292],\n",
              "       [0.56930306, 0.43069694],\n",
              "       [0.65470385, 0.34529615],\n",
              "       [0.41560798, 0.58439202],\n",
              "       [0.26268212, 0.73731788],\n",
              "       [0.34495009, 0.65504991],\n",
              "       [0.36316723, 0.63683277],\n",
              "       [0.4885159 , 0.5114841 ],\n",
              "       [0.62007004, 0.37992996],\n",
              "       [0.3379246 , 0.6620754 ],\n",
              "       [0.5165918 , 0.4834082 ],\n",
              "       [0.54504665, 0.45495335],\n",
              "       [0.54967891, 0.45032109],\n",
              "       [0.55443085, 0.44556915],\n",
              "       [0.25374993, 0.74625007],\n",
              "       [0.46367809, 0.53632191],\n",
              "       [0.33577048, 0.66422952],\n",
              "       [0.33771951, 0.66228049],\n",
              "       [0.51657877, 0.48342123],\n",
              "       [0.44938344, 0.55061656],\n",
              "       [0.35859941, 0.64140059],\n",
              "       [0.68822997, 0.31177003],\n",
              "       [0.33706003, 0.66293997],\n",
              "       [0.65123155, 0.34876845],\n",
              "       [0.35964822, 0.64035178],\n",
              "       [0.2724383 , 0.7275617 ],\n",
              "       [0.6322971 , 0.3677029 ],\n",
              "       [0.49023174, 0.50976826],\n",
              "       [0.56907177, 0.43092823],\n",
              "       [0.41291311, 0.58708689],\n",
              "       [0.35870654, 0.64129346],\n",
              "       [0.27632103, 0.72367897],\n",
              "       [0.63500961, 0.36499039],\n",
              "       [0.58317922, 0.41682078],\n",
              "       [0.63460061, 0.36539939],\n",
              "       [0.44435399, 0.55564601],\n",
              "       [0.64960253, 0.35039747],\n",
              "       [0.51752536, 0.48247464],\n",
              "       [0.47753236, 0.52246764],\n",
              "       [0.55286075, 0.44713925],\n",
              "       [0.53826756, 0.46173244],\n",
              "       [0.55937987, 0.44062013],\n",
              "       [0.26692049, 0.73307951],\n",
              "       [0.36035908, 0.63964092],\n",
              "       [0.61355144, 0.38644856],\n",
              "       [0.56173736, 0.43826264],\n",
              "       [0.66926861, 0.33073139],\n",
              "       [0.48942435, 0.51057565],\n",
              "       [0.34545183, 0.65454817],\n",
              "       [0.328436  , 0.671564  ],\n",
              "       [0.5634191 , 0.4365809 ],\n",
              "       [0.62467311, 0.37532689],\n",
              "       [0.49070541, 0.50929459],\n",
              "       [0.42807017, 0.57192983],\n",
              "       [0.62909951, 0.37090049],\n",
              "       [0.54906592, 0.45093408],\n",
              "       [0.37768497, 0.62231503],\n",
              "       [0.43305577, 0.56694423],\n",
              "       [0.57865273, 0.42134727],\n",
              "       [0.54743048, 0.45256952],\n",
              "       [0.48932379, 0.51067621],\n",
              "       [0.67187277, 0.32812723],\n",
              "       [0.6307921 , 0.3692079 ],\n",
              "       [0.48953601, 0.51046399],\n",
              "       [0.27183033, 0.72816967],\n",
              "       [0.29916044, 0.70083956],\n",
              "       [0.26517389, 0.73482611],\n",
              "       [0.46303041, 0.53696959],\n",
              "       [0.56283483, 0.43716517],\n",
              "       [0.36476709, 0.63523291],\n",
              "       [0.61956893, 0.38043107],\n",
              "       [0.62571588, 0.37428412],\n",
              "       [0.58915945, 0.41084055],\n",
              "       [0.6177315 , 0.3822685 ],\n",
              "       [0.36675932, 0.63324068],\n",
              "       [0.37089762, 0.62910238],\n",
              "       [0.43549233, 0.56450767],\n",
              "       [0.42674977, 0.57325023],\n",
              "       [0.54585325, 0.45414675],\n",
              "       [0.61106222, 0.38893778],\n",
              "       [0.29018858, 0.70981142],\n",
              "       [0.287931  , 0.712069  ]])"
            ]
          },
          "metadata": {},
          "execution_count": 34
        }
      ]
    },
    {
      "cell_type": "code",
      "source": [
        "\"\"\"def alpcut1(alpha,y_fuzzy):\n",
        "  for i in range(1):\n",
        "    for m in y_fuzzy:\n",
        "      if y_fuzzy[m][i]>alpha:\n",
        "        y_fuzzy[m][i]==1 and y_fuzzy[m][i]==0\n",
        "      else:\n",
        "        y_fuzzy[m][i]==1 and y_fuzzy[m][i]==0\n",
        "      return(np.argmax(y_fuzzy[i]))\"\"\""
      ],
      "metadata": {
        "id": "L7PJJcdzgl6V",
        "colab": {
          "base_uri": "https://localhost:8080/",
          "height": 52
        },
        "outputId": "6bc5b892-1382-425e-9a5d-3aac138c7f0c"
      },
      "execution_count": null,
      "outputs": [
        {
          "output_type": "execute_result",
          "data": {
            "text/plain": [
              "'def alpcut1(alpha,y_fuzzy):\\n  for i in range(1):\\n    for m in y_fuzzy:\\n      if y_fuzzy[m][i]>alpha:\\n        y_fuzzy[m][i]==1 and y_fuzzy[m][i]==0\\n      else:\\n        y_fuzzy[m][i]==1 and y_fuzzy[m][i]==0\\n      return(np.argmax(y_fuzzy[i]))'"
            ],
            "application/vnd.google.colaboratory.intrinsic+json": {
              "type": "string"
            }
          },
          "metadata": {},
          "execution_count": 35
        }
      ]
    },
    {
      "cell_type": "markdown",
      "source": [
        "***calculate alpha cut to get crisp values(labels)***"
      ],
      "metadata": {
        "id": "kPrXR-zhiRdL"
      }
    },
    {
      "cell_type": "code",
      "source": [
        "def alph_cut(alpha,y_fuzzy):\n",
        "  #alpha=.4\n",
        "  labels=[]\n",
        "  count=len(y_fuzzy)\n",
        "  for i in range(count):\n",
        "    if (alpha<=y_fuzzy[i][0]):\n",
        "      labels.append(0)\n",
        "    else:\n",
        "      labels.append(1)\n",
        "  return labels"
      ],
      "metadata": {
        "id": "rOZ3RpctiPSs"
      },
      "execution_count": null,
      "outputs": []
    },
    {
      "cell_type": "code",
      "source": [
        "y_pred[1][0]"
      ],
      "metadata": {
        "colab": {
          "base_uri": "https://localhost:8080/"
        },
        "id": "K8urmYaZtJmv",
        "outputId": "b583a14f-79f6-4ae1-e496-ac673db1df2d"
      },
      "execution_count": null,
      "outputs": [
        {
          "output_type": "execute_result",
          "data": {
            "text/plain": [
              "0.4242819760151961"
            ]
          },
          "metadata": {},
          "execution_count": 37
        }
      ]
    },
    {
      "cell_type": "code",
      "source": [
        "alph_cut(0.5,y_pred)"
      ],
      "metadata": {
        "id": "L8AOki35gwkJ",
        "colab": {
          "base_uri": "https://localhost:8080/"
        },
        "outputId": "79518811-03d3-48e4-ddc0-2fd88c1bc443"
      },
      "execution_count": null,
      "outputs": [
        {
          "output_type": "execute_result",
          "data": {
            "text/plain": [
              "[1,\n",
              " 1,\n",
              " 1,\n",
              " 1,\n",
              " 0,\n",
              " 1,\n",
              " 1,\n",
              " 1,\n",
              " 0,\n",
              " 1,\n",
              " 1,\n",
              " 1,\n",
              " 1,\n",
              " 0,\n",
              " 0,\n",
              " 1,\n",
              " 1,\n",
              " 1,\n",
              " 0,\n",
              " 0,\n",
              " 0,\n",
              " 0,\n",
              " 1,\n",
              " 0,\n",
              " 0,\n",
              " 1,\n",
              " 0,\n",
              " 1,\n",
              " 1,\n",
              " 1,\n",
              " 0,\n",
              " 1,\n",
              " 0,\n",
              " 0,\n",
              " 0,\n",
              " 0,\n",
              " 0,\n",
              " 0,\n",
              " 1,\n",
              " 0,\n",
              " 1,\n",
              " 0,\n",
              " 1,\n",
              " 0,\n",
              " 0,\n",
              " 1,\n",
              " 1,\n",
              " 1,\n",
              " 0,\n",
              " 0,\n",
              " 0,\n",
              " 0,\n",
              " 0,\n",
              " 0,\n",
              " 0,\n",
              " 1,\n",
              " 1,\n",
              " 1,\n",
              " 1,\n",
              " 1,\n",
              " 0,\n",
              " 0,\n",
              " 1,\n",
              " 1,\n",
              " 0,\n",
              " 1,\n",
              " 0,\n",
              " 1,\n",
              " 0,\n",
              " 0,\n",
              " 1,\n",
              " 1,\n",
              " 1,\n",
              " 1,\n",
              " 1,\n",
              " 1,\n",
              " 1,\n",
              " 1,\n",
              " 1,\n",
              " 0,\n",
              " 0,\n",
              " 1,\n",
              " 0,\n",
              " 0,\n",
              " 0,\n",
              " 1,\n",
              " 1,\n",
              " 0,\n",
              " 0,\n",
              " 0,\n",
              " 1,\n",
              " 1,\n",
              " 0,\n",
              " 1,\n",
              " 0,\n",
              " 0,\n",
              " 0,\n",
              " 0,\n",
              " 0,\n",
              " 0,\n",
              " 1,\n",
              " 1,\n",
              " 1,\n",
              " 1,\n",
              " 0,\n",
              " 0,\n",
              " 1,\n",
              " 0,\n",
              " 1,\n",
              " 1,\n",
              " 1,\n",
              " 1,\n",
              " 1,\n",
              " 0,\n",
              " 0,\n",
              " 0,\n",
              " 0,\n",
              " 0,\n",
              " 0,\n",
              " 0,\n",
              " 1,\n",
              " 0,\n",
              " 0,\n",
              " 0,\n",
              " 1,\n",
              " 0,\n",
              " 0,\n",
              " 0,\n",
              " 1,\n",
              " 0,\n",
              " 1,\n",
              " 0,\n",
              " 0,\n",
              " 1,\n",
              " 1,\n",
              " 1,\n",
              " 0,\n",
              " 1,\n",
              " 0,\n",
              " 1,\n",
              " 1,\n",
              " 0,\n",
              " 0,\n",
              " 0,\n",
              " 1,\n",
              " 1,\n",
              " 1,\n",
              " 1,\n",
              " 1,\n",
              " 1,\n",
              " 0,\n",
              " 0,\n",
              " 1,\n",
              " 1,\n",
              " 0,\n",
              " 0,\n",
              " 0,\n",
              " 1,\n",
              " 1,\n",
              " 1,\n",
              " 0,\n",
              " 1,\n",
              " 1,\n",
              " 0,\n",
              " 0,\n",
              " 0,\n",
              " 1,\n",
              " 0,\n",
              " 0,\n",
              " 0,\n",
              " 1,\n",
              " 1,\n",
              " 1,\n",
              " 1,\n",
              " 1,\n",
              " 1,\n",
              " 1,\n",
              " 0,\n",
              " 0,\n",
              " 1,\n",
              " 1,\n",
              " 1,\n",
              " 1,\n",
              " 1,\n",
              " 1,\n",
              " 0,\n",
              " 0,\n",
              " 0,\n",
              " 0,\n",
              " 0,\n",
              " 1,\n",
              " 0,\n",
              " 0,\n",
              " 1,\n",
              " 1,\n",
              " 1,\n",
              " 0,\n",
              " 0,\n",
              " 0,\n",
              " 1,\n",
              " 1,\n",
              " 0,\n",
              " 1,\n",
              " 1,\n",
              " 1,\n",
              " 0,\n",
              " 0,\n",
              " 1,\n",
              " 0,\n",
              " 0,\n",
              " 1,\n",
              " 1,\n",
              " 1,\n",
              " 0,\n",
              " 0,\n",
              " 1,\n",
              " 0,\n",
              " 0,\n",
              " 0,\n",
              " 0,\n",
              " 1,\n",
              " 1,\n",
              " 1,\n",
              " 1,\n",
              " 1,\n",
              " 0,\n",
              " 1,\n",
              " 0,\n",
              " 0,\n",
              " 0,\n",
              " 0,\n",
              " 1,\n",
              " 1,\n",
              " 1,\n",
              " 1,\n",
              " 0,\n",
              " 1,\n",
              " 1,\n",
              " 0,\n",
              " 1,\n",
              " 0,\n",
              " 1,\n",
              " 1,\n",
              " 0,\n",
              " 1,\n",
              " 0,\n",
              " 1,\n",
              " 1,\n",
              " 1,\n",
              " 0,\n",
              " 0,\n",
              " 0,\n",
              " 1,\n",
              " 0,\n",
              " 0,\n",
              " 1,\n",
              " 0,\n",
              " 0,\n",
              " 0,\n",
              " 1,\n",
              " 1,\n",
              " 0,\n",
              " 0,\n",
              " 0,\n",
              " 1,\n",
              " 1,\n",
              " 1,\n",
              " 0,\n",
              " 0,\n",
              " 1,\n",
              " 1,\n",
              " 0,\n",
              " 0,\n",
              " 1,\n",
              " 1,\n",
              " 0,\n",
              " 0,\n",
              " 1,\n",
              " 0,\n",
              " 0,\n",
              " 1,\n",
              " 1,\n",
              " 1,\n",
              " 1,\n",
              " 1,\n",
              " 0,\n",
              " 1,\n",
              " 0,\n",
              " 0,\n",
              " 0,\n",
              " 0,\n",
              " 1,\n",
              " 1,\n",
              " 1,\n",
              " 1,\n",
              " 0,\n",
              " 0,\n",
              " 1,\n",
              " 1]"
            ]
          },
          "metadata": {},
          "execution_count": 38
        }
      ]
    },
    {
      "cell_type": "markdown",
      "source": [
        "***alpha cut =0.2***"
      ],
      "metadata": {
        "id": "31IS-R_ijGSW"
      }
    },
    {
      "cell_type": "code",
      "source": [
        "labels = alph_cut(0.2,y_pred)\n",
        "#label=np.array(labels)\n",
        "correct_labels = sum(y == labels)\n",
        "print(\"Result: %d out of %d samples were correctly labeled.\" % (correct_labels, y.size))\n",
        "c_acc= correct_labels/float(y.size)*100\n",
        "c_acc"
      ],
      "metadata": {
        "id": "bHSUleT-inoi",
        "colab": {
          "base_uri": "https://localhost:8080/"
        },
        "outputId": "bd7a7579-18cf-43bf-ba90-07f7b62a5fa9"
      },
      "execution_count": null,
      "outputs": [
        {
          "output_type": "stream",
          "name": "stdout",
          "text": [
            "Result: 203 out of 299 samples were correctly labeled.\n"
          ]
        },
        {
          "output_type": "execute_result",
          "data": {
            "text/plain": [
              "67.89297658862876"
            ]
          },
          "metadata": {},
          "execution_count": 39
        }
      ]
    },
    {
      "cell_type": "markdown",
      "source": [
        "***alpha cut =0.3***"
      ],
      "metadata": {
        "id": "-20ZIug7jLgM"
      }
    },
    {
      "cell_type": "code",
      "source": [
        "labels = alph_cut(0.3,y_pred)\n",
        "#label=np.array(labels)\n",
        "correct_labels = sum(y == labels)\n",
        "print(\"Result: %d out of %d samples were correctly labeled.\" % (correct_labels, y.size))\n",
        "c_acc= correct_labels/float(y.size)*100\n",
        "c_acc"
      ],
      "metadata": {
        "id": "W8frBKkXiqRt",
        "colab": {
          "base_uri": "https://localhost:8080/"
        },
        "outputId": "14298343-f55a-4635-a978-cbb6d690521e"
      },
      "execution_count": null,
      "outputs": [
        {
          "output_type": "stream",
          "name": "stdout",
          "text": [
            "Result: 177 out of 299 samples were correctly labeled.\n"
          ]
        },
        {
          "output_type": "execute_result",
          "data": {
            "text/plain": [
              "59.19732441471572"
            ]
          },
          "metadata": {},
          "execution_count": 40
        }
      ]
    },
    {
      "cell_type": "markdown",
      "source": [
        "***alpha cut =0.4***"
      ],
      "metadata": {
        "id": "IDGpUKvXjO5L"
      }
    },
    {
      "cell_type": "code",
      "source": [
        "labels = alph_cut(0.4,y_pred)\n",
        "#label=np.array(labels)\n",
        "correct_labels = sum(y == labels)\n",
        "print(\"Result: %d out of %d samples were correctly labeled.\" % (correct_labels, y.size))\n",
        "c_acc= correct_labels/float(y.size)*100\n",
        "c_acc"
      ],
      "metadata": {
        "id": "mG8W86lgisaK",
        "colab": {
          "base_uri": "https://localhost:8080/"
        },
        "outputId": "3d768222-eff1-4d13-ba85-404f764c9de5"
      },
      "execution_count": null,
      "outputs": [
        {
          "output_type": "stream",
          "name": "stdout",
          "text": [
            "Result: 152 out of 299 samples were correctly labeled.\n"
          ]
        },
        {
          "output_type": "execute_result",
          "data": {
            "text/plain": [
              "50.836120401337794"
            ]
          },
          "metadata": {},
          "execution_count": 41
        }
      ]
    },
    {
      "cell_type": "markdown",
      "source": [
        "***alpha cut =0.7***"
      ],
      "metadata": {
        "id": "9qsXi-5ejSEq"
      }
    },
    {
      "cell_type": "code",
      "source": [
        "labels = alph_cut(0.7,y_pred)\n",
        "#label=np.array(labels)\n",
        "correct_labels = sum(y == labels)\n",
        "print(\"Result: %d out of %d samples were correctly labeled.\" % (correct_labels, y.size))\n",
        "c_acc= correct_labels/float(y.size)*100\n",
        "c_acc"
      ],
      "metadata": {
        "id": "5uKvhNFBiula",
        "colab": {
          "base_uri": "https://localhost:8080/"
        },
        "outputId": "c3deaccb-9a60-413f-ac99-ce4e9efcb710"
      },
      "execution_count": null,
      "outputs": [
        {
          "output_type": "stream",
          "name": "stdout",
          "text": [
            "Result: 98 out of 299 samples were correctly labeled.\n"
          ]
        },
        {
          "output_type": "execute_result",
          "data": {
            "text/plain": [
              "32.77591973244147"
            ]
          },
          "metadata": {},
          "execution_count": 42
        }
      ]
    },
    {
      "cell_type": "markdown",
      "source": [
        "***alpha cut =0.8***"
      ],
      "metadata": {
        "id": "lcUhQgTAjZ6s"
      }
    },
    {
      "cell_type": "code",
      "source": [
        "labels = alph_cut(0.8,y_pred)\n",
        "#label=np.array(labels)\n",
        "correct_labels = sum(y == labels)\n",
        "print(\"Result: %d out of %d samples were correctly labeled.\" % (correct_labels, y.size))\n",
        "c_acc= correct_labels/float(y.size)*100\n",
        "c_acc"
      ],
      "metadata": {
        "id": "6Fd5ZmYjiwnr",
        "colab": {
          "base_uri": "https://localhost:8080/"
        },
        "outputId": "2e95145f-33b1-4034-afd4-b8a4ff3ecbec"
      },
      "execution_count": null,
      "outputs": [
        {
          "output_type": "stream",
          "name": "stdout",
          "text": [
            "Result: 96 out of 299 samples were correctly labeled.\n"
          ]
        },
        {
          "output_type": "execute_result",
          "data": {
            "text/plain": [
              "32.10702341137124"
            ]
          },
          "metadata": {},
          "execution_count": 43
        }
      ]
    },
    {
      "cell_type": "markdown",
      "source": [
        "***alpha cut=0.1***"
      ],
      "metadata": {
        "id": "AAzh_tyWj4DE"
      }
    },
    {
      "cell_type": "code",
      "source": [
        "labels = alph_cut(0.1,y_pred)\n",
        "#label=np.array(labels)\n",
        "correct_labels = sum(y == labels)\n",
        "print(\"Result: %d out of %d samples were correctly labeled.\" % (correct_labels, y.size))\n",
        "c_acc= correct_labels/float(y.size)*100\n",
        "c_acc\n",
        "l=alph_cut(0.4,y_pred)\n",
        "l=pd.DataFrame(l)\n",
        "l\n",
        "l.columns=[\"l\"]\n",
        "c_acc= correct_labels/float(y.size)*100\n",
        "c_acc\n"
      ],
      "metadata": {
        "id": "c7Ceov8OjxxG",
        "colab": {
          "base_uri": "https://localhost:8080/"
        },
        "outputId": "8d4016f4-23ae-4c41-9d5b-7fd1ad7923a5"
      },
      "execution_count": null,
      "outputs": [
        {
          "output_type": "stream",
          "name": "stdout",
          "text": [
            "Result: 203 out of 299 samples were correctly labeled.\n"
          ]
        },
        {
          "output_type": "execute_result",
          "data": {
            "text/plain": [
              "67.89297658862876"
            ]
          },
          "metadata": {},
          "execution_count": 44
        }
      ]
    },
    {
      "cell_type": "code",
      "source": [
        "l.value_counts()\n",
        "import seaborn as sns \n",
        "sns.countplot(data=l,x=\"l\").set(title='Number of samples belongs to each cluster in fuzzy_c-Means with alpha=0.4')\n",
        "plt.show()"
      ],
      "metadata": {
        "id": "FPbbGMUigJPW",
        "colab": {
          "base_uri": "https://localhost:8080/",
          "height": 295
        },
        "outputId": "516d86e7-63a4-44eb-a03a-2878558f354a"
      },
      "execution_count": null,
      "outputs": [
        {
          "output_type": "display_data",
          "data": {
            "text/plain": [
              "<Figure size 432x288 with 1 Axes>"
            ],
            "image/png": "[encoded data removed]"
          },
          "metadata": {
            "needs_background": "light"
          }
        }
      ]
    },
    {
      "cell_type": "code",
      "source": [
        "# Instantiate the Support Vector Classifier (SVC)\n",
        "from sklearn.metrics import confusion_matrix\n",
        "svc = SVC(C=1.0, random_state=45, kernel='linear') \n",
        "\n",
        "# Fit the model\n",
        "svc.fit(x_train, y_train)\n",
        "\n",
        "# Make the predictions\n",
        "y_predict = svc.predict(x_test)\n",
        "\n",
        "# Measure the performance\n",
        "SVM_accuracy=accuracy_score(y_test, y_predict)*100\n",
        "print(\"Accuracy score : \",SVM_accuracy)\n",
        "f=confusion_matrix(y_test,y_predict)\n",
        "f"
      ],
      "metadata": {
        "id": "dZ2dvNWzbQc8",
        "colab": {
          "base_uri": "https://localhost:8080/"
        },
        "outputId": "c6167563-478d-46db-dbdb-c24e3db304a4"
      },
      "execution_count": null,
      "outputs": [
        {
          "output_type": "stream",
          "name": "stdout",
          "text": [
            "Accuracy score :  100.0\n"
          ]
        },
        {
          "output_type": "execute_result",
          "data": {
            "text/plain": [
              "array([[36,  0],\n",
              "       [ 0, 24]])"
            ]
          },
          "metadata": {},
          "execution_count": 46
        }
      ]
    },
    {
      "cell_type": "code",
      "source": [
        "Models=[\"Fuzzy C-Means\",\"K-Means\",\"SVM\"]\n",
        "model_data = [c_acc  , k_acc, SVM_accuracy]\n",
        "cols = [\"Accuracy_score\"]\n",
        "compare=pd.DataFrame(data=model_data , index= Models , columns= cols)\n",
        "compare.sort_values(ascending= False , by = ['Accuracy_score'])"
      ],
      "metadata": {
        "id": "qoCCcpcTtx72",
        "colab": {
          "base_uri": "https://localhost:8080/",
          "height": 144
        },
        "outputId": "66e16924-6b8e-4512-ecda-49fb8a4fa5ed"
      },
      "execution_count": null,
      "outputs": [
        {
          "output_type": "execute_result",
          "data": {
            "text/plain": [
              "               Accuracy_score\n",
              "SVM                100.000000\n",
              "Fuzzy C-Means       67.892977\n",
              "K-Means             48.160535"
            ],
            "text/html": [
              "\n",
              "  <div id=\"df-2c2dd685-35c0-4557-9e4e-1fa8c273ae31\">\n",
              "    <div class=\"colab-df-container\">\n",
              "      <div>\n",
              "<style scoped>\n",
              "    .dataframe tbody tr th:only-of-type {\n",
              "        vertical-align: middle;\n",
              "    }\n",
              "\n",
              "    .dataframe tbody tr th {\n",
              "        vertical-align: top;\n",
              "    }\n",
              "\n",
              "    .dataframe thead th {\n",
              "        text-align: right;\n",
              "    }\n",
              "</style>\n",
              "<table border=\"1\" class=\"dataframe\">\n",
              "  <thead>\n",
              "    <tr style=\"text-align: right;\">\n",
              "      <th></th>\n",
              "      <th>Accuracy_score</th>\n",
              "    </tr>\n",
              "  </thead>\n",
              "  <tbody>\n",
              "    <tr>\n",
              "      <th>SVM</th>\n",
              "      <td>100.000000</td>\n",
              "    </tr>\n",
              "    <tr>\n",
              "      <th>Fuzzy C-Means</th>\n",
              "      <td>67.892977</td>\n",
              "    </tr>\n",
              "    <tr>\n",
              "      <th>K-Means</th>\n",
              "      <td>48.160535</td>\n",
              "    </tr>\n",
              "  </tbody>\n",
              "</table>\n",
              "</div>\n",
              "      <button class=\"colab-df-convert\" onclick=\"convertToInteractive('df-2c2dd685-35c0-4557-9e4e-1fa8c273ae31')\"\n",
              "              title=\"Convert this dataframe to an interactive table.\"\n",
              "              style=\"display:none;\">\n",
              "        \n",
              "  <svg xmlns=\"http://www.w3.org/2000/svg\" height=\"24px\"viewBox=\"0 0 24 24\"\n",
              "       width=\"24px\">\n",
              "    <path d=\"M0 0h24v24H0V0z\" fill=\"none\"/>\n",
              "    <path d=\"M18.56 5.44l.94 2.06.94-2.06 2.06-.94-2.06-.94-.94-2.06-.94 2.06-2.06.94zm-11 1L8.5 8.5l.94-2.06 2.06-.94-2.06-.94L8.5 2.5l-.94 2.06-2.06.94zm10 10l.94 2.06.94-2.06 2.06-.94-2.06-.94-.94-2.06-.94 2.06-2.06.94z\"/><path d=\"M17.41 7.96l-1.37-1.37c-.4-.4-.92-.59-1.43-.59-.52 0-1.04.2-1.43.59L10.3 9.45l-7.72 7.72c-.78.78-.78 2.05 0 2.83L4 21.41c.39.39.9.59 1.41.59.51 0 1.02-.2 1.41-.59l7.78-7.78 2.81-2.81c.8-.78.8-2.07 0-2.86zM5.41 20L4 18.59l7.72-7.72 1.47 1.35L5.41 20z\"/>\n",
              "  </svg>\n",
              "      </button>\n",
              "      \n",
              "  <style>\n",
              "    .colab-df-container {\n",
              "      display:flex;\n",
              "      flex-wrap:wrap;\n",
              "      gap: 12px;\n",
              "    }\n",
              "\n",
              "    .colab-df-convert {\n",
              "      background-color: #E8F0FE;\n",
              "      border: none;\n",
              "      border-radius: 50%;\n",
              "      cursor: pointer;\n",
              "      display: none;\n",
              "      fill: #1967D2;\n",
              "      height: 32px;\n",
              "      padding: 0 0 0 0;\n",
              "      width: 32px;\n",
              "    }\n",
              "\n",
              "    .colab-df-convert:hover {\n",
              "      background-color: #E2EBFA;\n",
              "      box-shadow: 0px 1px 2px rgba(60, 64, 67, 0.3), 0px 1px 3px 1px rgba(60, 64, 67, 0.15);\n",
              "      fill: #174EA6;\n",
              "    }\n",
              "\n",
              "    [theme=dark] .colab-df-convert {\n",
              "      background-color: #3B4455;\n",
              "      fill: #D2E3FC;\n",
              "    }\n",
              "\n",
              "    [theme=dark] .colab-df-convert:hover {\n",
              "      background-color: #434B5C;\n",
              "      box-shadow: 0px 1px 3px 1px rgba(0, 0, 0, 0.15);\n",
              "      filter: drop-shadow(0px 1px 2px rgba(0, 0, 0, 0.3));\n",
              "      fill: #FFFFFF;\n",
              "    }\n",
              "  </style>\n",
              "\n",
              "      <script>\n",
              "        const buttonEl =\n",
              "          document.querySelector('#df-2c2dd685-35c0-4557-9e4e-1fa8c273ae31 button.colab-df-convert');\n",
              "        buttonEl.style.display =\n",
              "          google.colab.kernel.accessAllowed ? 'block' : 'none';\n",
              "\n",
              "        async function convertToInteractive(key) {\n",
              "          const element = document.querySelector('#df-2c2dd685-35c0-4557-9e4e-1fa8c273ae31');\n",
              "          const dataTable =\n",
              "            await google.colab.kernel.invokeFunction('convertToInteractive',\n",
              "                                                     [key], {});\n",
              "          if (!dataTable) return;\n",
              "\n",
              "          const docLinkHtml = 'Like what you see? Visit the ' +\n",
              "            '<a target=\"_blank\" href=https://colab.research.google.com/notebooks/data_table.ipynb>data table notebook</a>'\n",
              "            + ' to learn more about interactive tables.';\n",
              "          element.innerHTML = '';\n",
              "          dataTable['output_type'] = 'display_data';\n",
              "          await google.colab.output.renderOutput(dataTable, element);\n",
              "          const docLink = document.createElement('div');\n",
              "          docLink.innerHTML = docLinkHtml;\n",
              "          element.appendChild(docLink);\n",
              "        }\n",
              "      </script>\n",
              "    </div>\n",
              "  </div>\n",
              "  "
            ]
          },
          "metadata": {},
          "execution_count": 47
        }
      ]
    },
    {
      "cell_type": "code",
      "source": [
        "# def compute_cost(W, X, Y):\n",
        "#     # calculate hinge loss\n",
        "#     N = X.shape[0]\n",
        "#     distances = 1 - Y * (np.dot(X, W))\n",
        "#     distances[distances < 0] = 0  # equivalent to max(0, distance)\n",
        "#     hinge_loss = reg_strength * (np.sum(distances) / N)\n",
        "    \n",
        "#     # calculate cost\n",
        "#     cost = 1 / 2 * np.dot(W, W) + hinge_loss\n",
        "#     return cost"
      ],
      "metadata": {
        "id": "osLVVdTOmaZZ"
      },
      "execution_count": null,
      "outputs": []
    },
    {
      "cell_type": "code",
      "source": [
        "# def calculate_cost_gradient(W, X_batch, Y_batch):\n",
        "#     # if only one example is passed (eg. in case of SGD)\n",
        "#     if type(Y_batch) == np.float64:\n",
        "#         Y_batch = np.array([Y_batch])\n",
        "#         X_batch = np.array([X_batch])\n",
        "#     distance = 1 - (Y_batch * np.dot(X_batch, W))\n",
        "#     dw = np.zeros(len(W))\n",
        "#     for ind, d in enumerate(distance):\n",
        "#         if max(0, d) == 0:\n",
        "#             di = W\n",
        "#         else:\n",
        "#             di = W - (reg_strength * Y_batch[ind] * X_batch[ind])\n",
        "#         dw += di"
      ],
      "metadata": {
        "id": "K7syvS4cmdaB"
      },
      "execution_count": null,
      "outputs": []
    },
    {
      "cell_type": "code",
      "source": [
        "def sgd(features, outputs):\n",
        "    max_epochs = 5000\n",
        "    weights = np.zeros(features.shape[1])\n",
        "    # stochastic gradient descent\n",
        "    for epoch in range(1, max_epochs): \n",
        "        # shuffle to prevent repeating update cycles\n",
        "        X, Y = shuffle(features, outputs)\n",
        "        for ind, x in enumerate(X):\n",
        "            ascent = calculate_cost_gradient(weights, x, Y[ind])\n",
        "            weights = weights - (learning_rate * ascent)\n",
        "            \n",
        "    return weights"
      ],
      "metadata": {
        "id": "_KgLKdQummd8"
      },
      "execution_count": null,
      "outputs": []
    },
    {
      "cell_type": "code",
      "source": [
        "# # train the model\n",
        "# print(\"training started...\")\n",
        "# W = sgd(x_train.to_numpy(), y_train.to_numpy())\n",
        "# print(\"training finished.\")\n",
        "# print(\"weights are: {}\".format(W))"
      ],
      "metadata": {
        "id": "YALXKuPbm6Ed"
      },
      "execution_count": null,
      "outputs": []
    },
    {
      "cell_type": "code",
      "source": [
        "# def sgd(features, outputs):\n",
        "#     max_epochs = 5000\n",
        "#     weights = np.zeros(features.shape[1])\n",
        "#     nth = 0\n",
        "#     prev_cost = float(\"inf\")\n",
        "#     cost_threshold = 0.01  # in percent\n",
        "#     # stochastic gradient descent\n",
        "#     for epoch in range(1, max_epochs):\n",
        "#         # shuffle to prevent repeating update cycles\n",
        "#         X, Y = shuffle(features, outputs)\n",
        "#         for ind, x in enumerate(X):\n",
        "#             ascent = calculate_cost_gradient(weights, x, Y[ind])\n",
        "#             weights = weights - (learning_rate * ascent)\n",
        "#         # convergence check on 2^nth epoch\n",
        "#         if epoch == 2 ** nth or epoch == max_epochs - 1:\n",
        "#             cost = compute_cost(weights, features, outputs)\n",
        "#             print(\"Epoch is:{} and Cost is: {}\".format(epoch, cost))\n",
        "#             # stoppage criterion\n",
        "#             if abs(prev_cost - cost) < cost_threshold * prev_cost:\n",
        "#                 return weights\n",
        "#             prev_cost = cost\n",
        "#             nth += 1\n",
        "#     return weights"
      ],
      "metadata": {
        "id": "XM4-5yCxoX8_"
      },
      "execution_count": null,
      "outputs": []
    },
    {
      "cell_type": "code",
      "source": [
        "# # testing the model on test set\n",
        "# y_test_predicted = np.array([])\n",
        "# for i in range(x_test.shape[0]):\n",
        "#     yp = np.sign(np.dot(W, x_test.to_numpy()[i])) #model\n",
        "#     y_test_predicted = np.append(y_test_predicted, yp)\n",
        "# print(\"accuracy on test dataset: {}\".format(accuracy_score(y_test.to_numpy(), y_test_predicted)))\n",
        "# print(\"recall on test dataset: {}\".format(recall_score(y_test.to_numpy(), y_test_predicted)))\n",
        "# print(\"precision on test dataset: {}\".format(recall_score(y_test.to_numpy(), y_test_predicted)))"
      ],
      "metadata": {
        "id": "bGtv4KwaoZop"
      },
      "execution_count": null,
      "outputs": []
    },
    {
      "cell_type": "code",
      "source": [
        "class SVM:\n",
        "    def __init__(self, iterations=1000, lr=0.01, lambdaa=0.01):\n",
        "        self.lambdaa = lambdaa\n",
        "        self.iterations = iterations\n",
        "        self.lr = lr\n",
        "        self.w = None\n",
        "        self.b = None\n",
        "        \n",
        "\n",
        "    def initialize_parameters(self,X):\n",
        "        #get number of examples and number of features\n",
        "        m, n = X.shape\n",
        "        #initialize w to array of zeros of the shape of number of features\n",
        "        # Note intializing w to random array will sometimes yield better/worse results\n",
        "        self.w = np.zeros(n)\n",
        "        #intialize b to zero\n",
        "        self.b = 0\n",
        "\n",
        "        \n",
        "    def gradient_descent(self, X, y):\n",
        "        # set y to -1 if it's equal or less than 0, else set it to 1\n",
        "        y_ = np.where(y <= 0, -1, 1)\n",
        "        # loop over the indexes and elements in X\n",
        "        for i, x in enumerate(X):\n",
        "            #Check if the condition mentioned above is true and set dw, db accordingly\n",
        "            if y_[i] * (np.dot(x, self.w) - self.b) >= 1:\n",
        "                dw = 2 * self.lambdaa * self.w\n",
        "                db = 0\n",
        "            else:\n",
        "                dw = 2 * self.lambdaa * self.w - np.dot(x, y_[i])\n",
        "                db = y_[i]\n",
        "                #update the weights using update weight function\n",
        "            self.update_parameters(dw,db)\n",
        "\n",
        "        \n",
        "    def update_parameters(self, dw, db):\n",
        "        \n",
        "        self.w = self.w - self.lr * dw\n",
        "        self.b = self.b - self.lr * db\n",
        "\n",
        "        \n",
        "    def fitting(self, X, y):\n",
        "        #intialize parameters\n",
        "        self.initialize_parameters(X)\n",
        "        #loop for specified number of iterations\n",
        "        for i in range(self.iterations):\n",
        "            #get the gradients and update weights\n",
        "            self.gradient_descent(X,y)\n",
        "            \n",
        "            \n",
        "    def predicted(self, X):\n",
        "        # get the outputs\n",
        "        output = np.dot(X, self.w) - self.b\n",
        "        # get the signs of the labels depending on if it's greater/less than zero\n",
        "        label_signs = np.sign(output)\n",
        "        #set predictions to 0 if they are less than or equal to -1 else set them to 1\n",
        "        predictions = np.where(label_signs <= -1, 0, 1)\n",
        "        return predictions"
      ],
      "metadata": {
        "id": "OYc9V--ESmfx"
      },
      "execution_count": null,
      "outputs": []
    },
    {
      "cell_type": "code",
      "source": [
        "model = SVM()\n",
        "n12 = np.squeeze(np.asarray(x_train))\n",
        "n = np.squeeze(np.asarray(y_train))\n",
        "model.fitting(n12,n)\n",
        "predictions = model.predicted(x_test)\n",
        "\n",
        "svm_acc = accuracy_score(y_test, predictions)\n",
        "print('Accuracy:',svm_acc*100)"
      ],
      "metadata": {
        "colab": {
          "base_uri": "https://localhost:8080/"
        },
        "id": "6nRwB4XdStU7",
        "outputId": "de8ce3f0-427b-4f73-ca92-cbcc4e59fef5"
      },
      "execution_count": null,
      "outputs": [
        {
          "output_type": "stream",
          "name": "stdout",
          "text": [
            "Accuracy: 100.0\n"
          ]
        }
      ]
    },
    {
      "cell_type": "code",
      "source": [
        "from sklearn.svm import SVC\n",
        "skmodel = SVC()\n",
        "skmodel.fit(x_train, y_train)\n",
        "sk_predictions = skmodel.predict(x_test)\n",
        "\n",
        "accuracy_score(y_test, sk_predictions)*100"
      ],
      "metadata": {
        "colab": {
          "base_uri": "https://localhost:8080/"
        },
        "id": "CdyQutuCS3Z0",
        "outputId": "2eb8e956-df7c-463b-d10a-1b9279e1f481"
      },
      "execution_count": null,
      "outputs": [
        {
          "output_type": "execute_result",
          "data": {
            "text/plain": [
              "100.0"
            ]
          },
          "metadata": {},
          "execution_count": 56
        }
      ]
    },
    {
      "cell_type": "code",
      "source": [
        "import numpy as np\n",
        "import cvxopt\n",
        "from scipy.spatial import distance\n",
        "\n",
        "# Pilihan Fungsi Kernel\n",
        "def linear(x,z):\n",
        "    return np.dot(x,z.T)\n",
        "\n",
        "def polynomial(x, z, p=5):\n",
        "    return (1 + np.dot(x, z.T)) ** p\n",
        "\n",
        "\n",
        "def gaussian(x, z, sigma=0.1):\n",
        "    return np.exp(-np.linalg.norm(x - z, axis=1) ** 2 / (2 * (sigma ** 2)))\n",
        "\n",
        "# Pilihan Fungsi Jarak\n",
        "def euclidean(x,y):\n",
        "    return np.sqrt(sum(pow(a-b, 2) for a, b in zip(x,y)))\n",
        "\n",
        "def akar_ke_n(nilai, akar_n):\n",
        "    nilai_akar=1/float(akar_n)\n",
        "    return round(float(nilai)**float(nilai_akar),3)\n",
        "\n",
        "def minkowski(x,y,p_value):\n",
        "    return akar_ke_n(sum(pow(abs(a-b), p_value) for a, b in zip(x,y)), p_value)\n",
        "\n",
        "def chebisev(x,y):\n",
        "    return max((a-b) for a,b in zip(x,y))\n",
        "\n",
        "def minkowski_chebisev(w1,w2,x,y,p_value):\n",
        "    return w1*minkowski(x,y,p_value)+w2*chebisev(x,y)\n",
        "\n",
        "# Fuzzyfikasi\n",
        "\n",
        "def pusat_kelas(X,y):\n",
        "    x_neg=X[y==-1]\n",
        "    x_pos=X[y==1]\n",
        "    x_neg_center=np.mean(x_neg, axis=0)\n",
        "    x_pos_center=np.mean(x_pos, axis=0)\n",
        "    center=[]\n",
        "    center.append(x_neg_center)\n",
        "    center.append(x_pos_center)\n",
        "    return center\n",
        "\n",
        "\n",
        "class Fuzzy_SVM:\n",
        "    def __init__(self, kernel=gaussian, jarak=euclidean, C=1, delta=1e-8):\n",
        "        self.kernel = kernel\n",
        "        self.jarak  = jarak\n",
        "        self.C      = C\n",
        "        self.delta  = delta\n",
        "        \n",
        "    def fit(self, X, y, w1=0.5, w2=0.5, p_value=1):\n",
        "        self.y = y\n",
        "        self.X = X\n",
        "        m, n = X.shape\n",
        "\n",
        "        # Number Kernel\n",
        "        self.K = np.zeros((m, m))\n",
        "        for i in range(m):\n",
        "            self.K[i, :] = self.kernel(X[i, np.newaxis], self.X)\n",
        "        \n",
        "        # Number Pusat Kelas\n",
        "        self.center = pusat_kelas(X,y)\n",
        "        \n",
        "        # Menghitung Radius\n",
        "        # select sv from neg\n",
        "        jarak_neg=[]\n",
        "        X_neg=self.X[self.y==-1]\n",
        "        for i in X_neg:\n",
        "            jrk_n=float(self.jarak(i, self.center[0]))\n",
        "            jarak_neg.append(jrk_n)\n",
        "        self.r_neg = np.max(jarak_neg)\n",
        "        # select sv from pos\n",
        "        jarak_pos=[]\n",
        "        X_pos=self.X[self.y==1]\n",
        "        for i in X_pos:\n",
        "            jrk_p=float(distance.euclidean(i, self.center[1]))\n",
        "            jarak_pos.append(jrk_p)\n",
        "        self.r_pos = np.max(jarak_pos)\n",
        "        \n",
        "        s_i=[]\n",
        "        for i in range(m):\n",
        "            y_i = y[i]\n",
        "            if (y_i) == -1:\n",
        "                X_i=X[i]\n",
        "                jrk = float(self.jarak(X_i, self.center[0]))\n",
        "                s = 1 - (jrk/(self.r_neg+self.delta))\n",
        "                s_i.append(s)\n",
        "            elif (y_i) == 1:\n",
        "                X_i=X[i]\n",
        "                jrk = float(self.jarak(X_i, self.center[1]))\n",
        "                s = 1 - (jrk/(self.r_pos+self.delta))\n",
        "                s_i.append(s)\n",
        "        \n",
        "        self.s_i=s_i\n",
        "\n",
        "        # Solving Optimization Problems with CVXOPT\n",
        "\n",
        "        P = cvxopt.matrix(np.outer(y, y) * self.K)\n",
        "        q = cvxopt.matrix(-np.ones((m, 1)))\n",
        "        G = cvxopt.matrix(np.vstack((np.eye(m) * -1, np.eye(m))))\n",
        "        h = cvxopt.matrix(np.hstack((np.zeros(m), self.s_i * self.C)))\n",
        "        A = cvxopt.matrix(y, (1, m), \"d\")\n",
        "        b = cvxopt.matrix(np.zeros(1))\n",
        "        cvxopt.solvers.options[\"show_progress\"] = False\n",
        "        sol = cvxopt.solvers.qp(P, q, G, h, A, b)\n",
        "        self.alphas = np.array(sol[\"x\"])\n",
        "        \n",
        "\n",
        "    def get_parameters(self, alphas):\n",
        "        threshold = 1e-5\n",
        "\n",
        "        sv = ((alphas > threshold) * (alphas < self.C)).flatten()\n",
        "        w = np.dot(X[sv].T, alphas[sv] * self.y[sv, np.newaxis])\n",
        "        self.w = w[::]\n",
        "        self.b = np.mean(\n",
        "            self.y[sv, np.newaxis]\n",
        "            - self.alphas[sv] * self.y[sv, np.newaxis] * self.K[sv, sv][:, np.newaxis]\n",
        "        )\n",
        "        \n",
        "        self.supportVectors = self.X[sv]\n",
        "        return sv\n",
        "    \n",
        "    \n",
        "    def predict(self, X):\n",
        "        y_predict = np.zeros((X.shape[0]))\n",
        "        sv = self.get_parameters(self.alphas)\n",
        "\n",
        "        for i in range(X.shape[0]):\n",
        "            y_predict[i] = np.sum(\n",
        "                self.alphas[sv]\n",
        "                * self.y[sv, np.newaxis]\n",
        "                * self.kernel(X[i], self.X[sv])[:, np.newaxis]\n",
        "            )\n",
        "        return np.sign(y_predict + self.b)\n",
        "  \n",
        "\n",
        "def generateBatchBipolar(n, mu=0.5, sigma=0.2):\n",
        "    \"\"\" Two gaussian clouds on each side of the origin \"\"\"\n",
        "    X = np.random.normal(mu, sigma, (n, 2))\n",
        "    yB = np.random.uniform(0, 1, n) > 0.5\n",
        "    # y is in {-1, 1}\n",
        "    y = 2. * yB - 1\n",
        "    X *= y[:, np.newaxis]\n",
        "    X -= X.mean(axis=0)\n",
        "    return X, y\n",
        "\n",
        "if __name__ == \"__main__\":\n",
        "    np.random.seed(1)\n",
        "    \n",
        "    X, y = generateBatchBipolar(100, mu=0.3, sigma=0.3)\n",
        "    svm = Fuzzy_SVM(kernel=linear, jarak=chebisev)\n",
        "    svm.fit(X, y, p_value=1)\n",
        "    y_pred = svm.predict(X)\n",
        "    \n",
        "\n",
        "    print(f\"Accuracy: {sum(y==y_pred)/y.shape[0]}\")"
      ],
      "metadata": {
        "id": "SnyIwId2DZRH",
        "colab": {
          "base_uri": "https://localhost:8080/"
        },
        "outputId": "d4f21d7e-d8e8-45f7-b58a-d2aa59e92ecb"
      },
      "execution_count": null,
      "outputs": [
        {
          "output_type": "stream",
          "name": "stdout",
          "text": [
            "Accuracy: 0.92\n"
          ]
        }
      ]
    },
    {
      "cell_type": "code",
      "source": [],
      "metadata": {
        "id": "ScLQIErfEvJr"
      },
      "execution_count": null,
      "outputs": []
    }
  ]
}